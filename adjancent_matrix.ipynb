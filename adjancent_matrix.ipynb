{
 "cells": [
  {
   "cell_type": "code",
   "execution_count": 1,
   "metadata": {},
   "outputs": [],
   "source": [
    "import pandas as pd\n",
    "import numpy as np\n",
    "import pickle as pkl\n",
    "import geopandas as gpd"
   ]
  },
  {
   "cell_type": "code",
   "execution_count": 4,
   "metadata": {},
   "outputs": [],
   "source": [
    "df = pd.read_csv('data/processed/processed_data.csv')\n",
    "zone_id = df['zone'].unique()"
   ]
  },
  {
   "cell_type": "code",
   "execution_count": 2,
   "metadata": {},
   "outputs": [],
   "source": [
    "zipfile = 'data/taxi_zones.shp'\n",
    "zones = gpd.read_file(zipfile)\n",
    "zones = zones.sort_values(['LocationID']).reset_index(drop=True)"
   ]
  },
  {
   "cell_type": "code",
   "execution_count": 5,
   "metadata": {},
   "outputs": [
    {
     "data": {
      "text/html": [
       "<div>\n",
       "<style scoped>\n",
       "    .dataframe tbody tr th:only-of-type {\n",
       "        vertical-align: middle;\n",
       "    }\n",
       "\n",
       "    .dataframe tbody tr th {\n",
       "        vertical-align: top;\n",
       "    }\n",
       "\n",
       "    .dataframe thead th {\n",
       "        text-align: right;\n",
       "    }\n",
       "</style>\n",
       "<table border=\"1\" class=\"dataframe\">\n",
       "  <thead>\n",
       "    <tr style=\"text-align: right;\">\n",
       "      <th></th>\n",
       "      <th>OBJECTID</th>\n",
       "      <th>Shape_Leng</th>\n",
       "      <th>Shape_Area</th>\n",
       "      <th>zone</th>\n",
       "      <th>LocationID</th>\n",
       "      <th>borough</th>\n",
       "      <th>geometry</th>\n",
       "    </tr>\n",
       "  </thead>\n",
       "  <tbody>\n",
       "    <tr>\n",
       "      <th>3</th>\n",
       "      <td>4</td>\n",
       "      <td>0.043567</td>\n",
       "      <td>0.000112</td>\n",
       "      <td>Alphabet City</td>\n",
       "      <td>4</td>\n",
       "      <td>Manhattan</td>\n",
       "      <td>POLYGON ((992073.467 203714.076, 992068.667 20...</td>\n",
       "    </tr>\n",
       "    <tr>\n",
       "      <th>11</th>\n",
       "      <td>12</td>\n",
       "      <td>0.036661</td>\n",
       "      <td>0.000042</td>\n",
       "      <td>Battery Park</td>\n",
       "      <td>12</td>\n",
       "      <td>Manhattan</td>\n",
       "      <td>POLYGON ((979908.772 196066.565, 979980.852 19...</td>\n",
       "    </tr>\n",
       "    <tr>\n",
       "      <th>12</th>\n",
       "      <td>13</td>\n",
       "      <td>0.050281</td>\n",
       "      <td>0.000149</td>\n",
       "      <td>Battery Park City</td>\n",
       "      <td>13</td>\n",
       "      <td>Manhattan</td>\n",
       "      <td>POLYGON ((980801.310 201248.869, 980697.386 20...</td>\n",
       "    </tr>\n",
       "    <tr>\n",
       "      <th>23</th>\n",
       "      <td>24</td>\n",
       "      <td>0.047000</td>\n",
       "      <td>0.000061</td>\n",
       "      <td>Bloomingdale</td>\n",
       "      <td>24</td>\n",
       "      <td>Manhattan</td>\n",
       "      <td>POLYGON ((995453.114 230274.267, 995312.583 23...</td>\n",
       "    </tr>\n",
       "    <tr>\n",
       "      <th>40</th>\n",
       "      <td>41</td>\n",
       "      <td>0.052793</td>\n",
       "      <td>0.000143</td>\n",
       "      <td>Central Harlem</td>\n",
       "      <td>41</td>\n",
       "      <td>Manhattan</td>\n",
       "      <td>POLYGON ((998716.913 234240.397, 999458.736 23...</td>\n",
       "    </tr>\n",
       "    <tr>\n",
       "      <th>41</th>\n",
       "      <td>42</td>\n",
       "      <td>0.092709</td>\n",
       "      <td>0.000264</td>\n",
       "      <td>Central Harlem North</td>\n",
       "      <td>42</td>\n",
       "      <td>Manhattan</td>\n",
       "      <td>POLYGON ((1002413.191 243934.560, 1002388.021 ...</td>\n",
       "    </tr>\n",
       "    <tr>\n",
       "      <th>42</th>\n",
       "      <td>43</td>\n",
       "      <td>0.099739</td>\n",
       "      <td>0.000380</td>\n",
       "      <td>Central Park</td>\n",
       "      <td>43</td>\n",
       "      <td>Manhattan</td>\n",
       "      <td>POLYGON ((991852.973 217950.807, 991725.244 21...</td>\n",
       "    </tr>\n",
       "    <tr>\n",
       "      <th>44</th>\n",
       "      <td>45</td>\n",
       "      <td>0.045907</td>\n",
       "      <td>0.000091</td>\n",
       "      <td>Chinatown</td>\n",
       "      <td>45</td>\n",
       "      <td>Manhattan</td>\n",
       "      <td>POLYGON ((984941.821 199431.157, 984958.446 19...</td>\n",
       "    </tr>\n",
       "    <tr>\n",
       "      <th>47</th>\n",
       "      <td>48</td>\n",
       "      <td>0.043747</td>\n",
       "      <td>0.000094</td>\n",
       "      <td>Clinton East</td>\n",
       "      <td>48</td>\n",
       "      <td>Manhattan</td>\n",
       "      <td>POLYGON ((986694.313 214463.846, 986568.184 21...</td>\n",
       "    </tr>\n",
       "    <tr>\n",
       "      <th>49</th>\n",
       "      <td>50</td>\n",
       "      <td>0.055748</td>\n",
       "      <td>0.000173</td>\n",
       "      <td>Clinton West</td>\n",
       "      <td>50</td>\n",
       "      <td>Manhattan</td>\n",
       "      <td>POLYGON ((985170.372 221087.389, 985817.170 22...</td>\n",
       "    </tr>\n",
       "  </tbody>\n",
       "</table>\n",
       "</div>"
      ],
      "text/plain": [
       "    OBJECTID  Shape_Leng  Shape_Area                  zone  LocationID  \\\n",
       "3          4    0.043567    0.000112         Alphabet City           4   \n",
       "11        12    0.036661    0.000042          Battery Park          12   \n",
       "12        13    0.050281    0.000149     Battery Park City          13   \n",
       "23        24    0.047000    0.000061          Bloomingdale          24   \n",
       "40        41    0.052793    0.000143        Central Harlem          41   \n",
       "41        42    0.092709    0.000264  Central Harlem North          42   \n",
       "42        43    0.099739    0.000380          Central Park          43   \n",
       "44        45    0.045907    0.000091             Chinatown          45   \n",
       "47        48    0.043747    0.000094          Clinton East          48   \n",
       "49        50    0.055748    0.000173          Clinton West          50   \n",
       "\n",
       "      borough                                           geometry  \n",
       "3   Manhattan  POLYGON ((992073.467 203714.076, 992068.667 20...  \n",
       "11  Manhattan  POLYGON ((979908.772 196066.565, 979980.852 19...  \n",
       "12  Manhattan  POLYGON ((980801.310 201248.869, 980697.386 20...  \n",
       "23  Manhattan  POLYGON ((995453.114 230274.267, 995312.583 23...  \n",
       "40  Manhattan  POLYGON ((998716.913 234240.397, 999458.736 23...  \n",
       "41  Manhattan  POLYGON ((1002413.191 243934.560, 1002388.021 ...  \n",
       "42  Manhattan  POLYGON ((991852.973 217950.807, 991725.244 21...  \n",
       "44  Manhattan  POLYGON ((984941.821 199431.157, 984958.446 19...  \n",
       "47  Manhattan  POLYGON ((986694.313 214463.846, 986568.184 21...  \n",
       "49  Manhattan  POLYGON ((985170.372 221087.389, 985817.170 22...  "
      ]
     },
     "execution_count": 5,
     "metadata": {},
     "output_type": "execute_result"
    }
   ],
   "source": [
    "Manhattan = zones[zones['LocationID'].isin(zone_id)]\n",
    "Manhattan.head(10)"
   ]
  },
  {
   "cell_type": "code",
   "execution_count": 6,
   "metadata": {},
   "outputs": [],
   "source": [
    "zones_centroid = Manhattan['geometry'].centroid\n",
    "zones_polygon = Manhattan['geometry']"
   ]
  },
  {
   "attachments": {},
   "cell_type": "markdown",
   "metadata": {},
   "source": [
    "### Eculidean"
   ]
  },
  {
   "cell_type": "code",
   "execution_count": 7,
   "metadata": {},
   "outputs": [],
   "source": [
    "euc_dist = zones_centroid.apply(lambda x:zones_centroid.distance(x)).to_numpy().flatten()"
   ]
  },
  {
   "cell_type": "code",
   "execution_count": 8,
   "metadata": {},
   "outputs": [],
   "source": [
    "census_adj = pd.DataFrame(np.array([np.repeat(Manhattan['LocationID'].to_numpy(), len(Manhattan)),\n",
    "                                    np.tile(Manhattan['LocationID'].to_numpy(), len(Manhattan)),\n",
    "                                    euc_dist]).T, columns=['start_id','end_id','euc'])"
   ]
  },
  {
   "cell_type": "code",
   "execution_count": 9,
   "metadata": {},
   "outputs": [],
   "source": [
    "census_adj['start_id'] = census_adj['start_id'].astype(int)\n",
    "census_adj['end_id'] = census_adj['end_id'].astype(int)"
   ]
  },
  {
   "attachments": {},
   "cell_type": "markdown",
   "metadata": {},
   "source": [
    "### Connectivity"
   ]
  },
  {
   "cell_type": "code",
   "execution_count": 10,
   "metadata": {},
   "outputs": [],
   "source": [
    "touch = zones_polygon.apply(lambda x: zones_polygon.touches(x)).to_numpy(dtype=np.float32).flatten()"
   ]
  },
  {
   "cell_type": "code",
   "execution_count": 11,
   "metadata": {},
   "outputs": [],
   "source": [
    "census_adj['con'] = touch"
   ]
  },
  {
   "cell_type": "code",
   "execution_count": 12,
   "metadata": {},
   "outputs": [
    {
     "data": {
      "text/html": [
       "<div>\n",
       "<style scoped>\n",
       "    .dataframe tbody tr th:only-of-type {\n",
       "        vertical-align: middle;\n",
       "    }\n",
       "\n",
       "    .dataframe tbody tr th {\n",
       "        vertical-align: top;\n",
       "    }\n",
       "\n",
       "    .dataframe thead th {\n",
       "        text-align: right;\n",
       "    }\n",
       "</style>\n",
       "<table border=\"1\" class=\"dataframe\">\n",
       "  <thead>\n",
       "    <tr style=\"text-align: right;\">\n",
       "      <th></th>\n",
       "      <th>start_id</th>\n",
       "      <th>end_id</th>\n",
       "      <th>euc</th>\n",
       "      <th>con</th>\n",
       "    </tr>\n",
       "  </thead>\n",
       "  <tbody>\n",
       "    <tr>\n",
       "      <th>0</th>\n",
       "      <td>4</td>\n",
       "      <td>4</td>\n",
       "      <td>0.000000</td>\n",
       "      <td>0.0</td>\n",
       "    </tr>\n",
       "    <tr>\n",
       "      <th>1</th>\n",
       "      <td>4</td>\n",
       "      <td>12</td>\n",
       "      <td>13112.689481</td>\n",
       "      <td>0.0</td>\n",
       "    </tr>\n",
       "    <tr>\n",
       "      <th>2</th>\n",
       "      <td>4</td>\n",
       "      <td>13</td>\n",
       "      <td>11651.582885</td>\n",
       "      <td>0.0</td>\n",
       "    </tr>\n",
       "    <tr>\n",
       "      <th>3</th>\n",
       "      <td>4</td>\n",
       "      <td>24</td>\n",
       "      <td>28674.720866</td>\n",
       "      <td>0.0</td>\n",
       "    </tr>\n",
       "    <tr>\n",
       "      <th>4</th>\n",
       "      <td>4</td>\n",
       "      <td>41</td>\n",
       "      <td>30207.906231</td>\n",
       "      <td>0.0</td>\n",
       "    </tr>\n",
       "  </tbody>\n",
       "</table>\n",
       "</div>"
      ],
      "text/plain": [
       "   start_id  end_id           euc  con\n",
       "0         4       4      0.000000  0.0\n",
       "1         4      12  13112.689481  0.0\n",
       "2         4      13  11651.582885  0.0\n",
       "3         4      24  28674.720866  0.0\n",
       "4         4      41  30207.906231  0.0"
      ]
     },
     "execution_count": 12,
     "metadata": {},
     "output_type": "execute_result"
    }
   ],
   "source": [
    "census_adj.head()"
   ]
  },
  {
   "attachments": {},
   "cell_type": "markdown",
   "metadata": {},
   "source": [
    "### Functionality"
   ]
  },
  {
   "cell_type": "code",
   "execution_count": 13,
   "metadata": {},
   "outputs": [
    {
     "name": "stderr",
     "output_type": "stream",
     "text": [
      "C:\\Users\\11481\\AppData\\Local\\Temp\\ipykernel_20464\\4293389756.py:4: SettingWithCopyWarning: \n",
      "A value is trying to be set on a copy of a slice from a DataFrame.\n",
      "Try using .loc[row_indexer,col_indexer] = value instead\n",
      "\n",
      "See the caveats in the documentation: https://pandas.pydata.org/pandas-docs/stable/user_guide/indexing.html#returning-a-view-versus-a-copy\n",
      "  s.loc[:,i] = s[i]/s[i].max()\n"
     ]
    }
   ],
   "source": [
    "spatial = df[['zone','residential','education','recreational','commercial','health']].drop_duplicates()\n",
    "s = spatial[['residential','education','recreational','commercial','health']]\n",
    "for i in s.columns:\n",
    "    s.loc[:,i] = s[i]/s[i].max()"
   ]
  },
  {
   "cell_type": "code",
   "execution_count": 14,
   "metadata": {},
   "outputs": [
    {
     "name": "stderr",
     "output_type": "stream",
     "text": [
      "C:\\Users\\11481\\AppData\\Local\\Temp\\ipykernel_20464\\1964729647.py:5: RuntimeWarning: divide by zero encountered in divide\n",
      "  s4 = s3[(s3 > 0)].min()/s3\n"
     ]
    }
   ],
   "source": [
    "n = len(s)\n",
    "s1 = np.transpose(np.tile(s, (n,1,1)),(1,0,2))\n",
    "s2 = np.tile(s, (n,1,1))\n",
    "s3 = np.sum(np.sqrt((s1-s2)*(s1-s2)), axis=2)\n",
    "s4 = s3[(s3 > 0)].min()/s3\n",
    "s4 = s4.flatten()\n",
    "s4[~np.isfinite(s4)] = 0"
   ]
  },
  {
   "cell_type": "code",
   "execution_count": 15,
   "metadata": {},
   "outputs": [],
   "source": [
    "func_adj = pd.DataFrame(np.array([np.repeat(spatial['zone'].to_numpy(), n), \n",
    "                       np.tile(spatial['zone'].to_numpy(), n),\n",
    "                       s4]).T, columns=['start_id','end_id','func'])"
   ]
  },
  {
   "cell_type": "code",
   "execution_count": 16,
   "metadata": {},
   "outputs": [],
   "source": [
    "census_adj = pd.merge(census_adj, func_adj, on=['start_id', 'end_id'], how='left').fillna(0)"
   ]
  },
  {
   "cell_type": "code",
   "execution_count": 17,
   "metadata": {},
   "outputs": [
    {
     "data": {
      "text/html": [
       "<div>\n",
       "<style scoped>\n",
       "    .dataframe tbody tr th:only-of-type {\n",
       "        vertical-align: middle;\n",
       "    }\n",
       "\n",
       "    .dataframe tbody tr th {\n",
       "        vertical-align: top;\n",
       "    }\n",
       "\n",
       "    .dataframe thead th {\n",
       "        text-align: right;\n",
       "    }\n",
       "</style>\n",
       "<table border=\"1\" class=\"dataframe\">\n",
       "  <thead>\n",
       "    <tr style=\"text-align: right;\">\n",
       "      <th></th>\n",
       "      <th>start_id</th>\n",
       "      <th>end_id</th>\n",
       "      <th>euc</th>\n",
       "      <th>con</th>\n",
       "      <th>func</th>\n",
       "    </tr>\n",
       "  </thead>\n",
       "  <tbody>\n",
       "    <tr>\n",
       "      <th>0</th>\n",
       "      <td>4</td>\n",
       "      <td>4</td>\n",
       "      <td>0.000000</td>\n",
       "      <td>0.0</td>\n",
       "      <td>0.000000</td>\n",
       "    </tr>\n",
       "    <tr>\n",
       "      <th>1</th>\n",
       "      <td>4</td>\n",
       "      <td>12</td>\n",
       "      <td>13112.689481</td>\n",
       "      <td>0.0</td>\n",
       "      <td>0.042759</td>\n",
       "    </tr>\n",
       "    <tr>\n",
       "      <th>2</th>\n",
       "      <td>4</td>\n",
       "      <td>13</td>\n",
       "      <td>11651.582885</td>\n",
       "      <td>0.0</td>\n",
       "      <td>0.037645</td>\n",
       "    </tr>\n",
       "    <tr>\n",
       "      <th>3</th>\n",
       "      <td>4</td>\n",
       "      <td>24</td>\n",
       "      <td>28674.720866</td>\n",
       "      <td>0.0</td>\n",
       "      <td>0.046002</td>\n",
       "    </tr>\n",
       "    <tr>\n",
       "      <th>4</th>\n",
       "      <td>4</td>\n",
       "      <td>41</td>\n",
       "      <td>30207.906231</td>\n",
       "      <td>0.0</td>\n",
       "      <td>0.046256</td>\n",
       "    </tr>\n",
       "  </tbody>\n",
       "</table>\n",
       "</div>"
      ],
      "text/plain": [
       "   start_id  end_id           euc  con      func\n",
       "0         4       4      0.000000  0.0  0.000000\n",
       "1         4      12  13112.689481  0.0  0.042759\n",
       "2         4      13  11651.582885  0.0  0.037645\n",
       "3         4      24  28674.720866  0.0  0.046002\n",
       "4         4      41  30207.906231  0.0  0.046256"
      ]
     },
     "execution_count": 17,
     "metadata": {},
     "output_type": "execute_result"
    }
   ],
   "source": [
    "census_adj.head()"
   ]
  },
  {
   "cell_type": "code",
   "execution_count": null,
   "metadata": {},
   "outputs": [],
   "source": [
    "census_adj.to_csv('data/processed/adjlist.csv',index=False)"
   ]
  }
 ],
 "metadata": {
  "kernelspec": {
   "display_name": "uncertainty",
   "language": "python",
   "name": "python3"
  },
  "language_info": {
   "codemirror_mode": {
    "name": "ipython",
    "version": 3
   },
   "file_extension": ".py",
   "mimetype": "text/x-python",
   "name": "python",
   "nbconvert_exporter": "python",
   "pygments_lexer": "ipython3",
   "version": "3.11.3"
  },
  "orig_nbformat": 4
 },
 "nbformat": 4,
 "nbformat_minor": 2
}
