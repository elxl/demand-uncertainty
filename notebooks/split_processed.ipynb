{
 "cells": [
  {
   "cell_type": "code",
   "execution_count": 25,
   "metadata": {},
   "outputs": [],
   "source": [
    "import pandas as pd\n",
    "import numpy as np\n",
    "import pickle as pkl\n",
    "import geopandas as gpd\n",
    "import matplotlib.pyplot as plt"
   ]
  },
  {
   "cell_type": "code",
   "execution_count": 2,
   "metadata": {},
   "outputs": [],
   "source": [
    "df = pd.read_csv('../data/processed/processed_data.csv')\n",
    "df['timestamp'] = df['bin'] + 288*df['day'] + 31*288*df['month']"
   ]
  },
  {
   "cell_type": "code",
   "execution_count": 12,
   "metadata": {},
   "outputs": [
    {
     "data": {
      "text/plain": [
       "array([ 3,  4,  5,  6,  7, 10, 11, 12, 13, 14, 17, 18, 19, 20, 21, 24, 25,\n",
       "       26, 27, 28], dtype=int64)"
      ]
     },
     "execution_count": 12,
     "metadata": {},
     "output_type": "execute_result"
    }
   ],
   "source": [
    "df['day'].unique()"
   ]
  },
  {
   "cell_type": "code",
   "execution_count": 27,
   "metadata": {},
   "outputs": [
    {
     "data": {
      "image/png": "[encoded data removed]",
      "text/plain": [
       "<Figure size 640x480 with 1 Axes>"
      ]
     },
     "metadata": {},
     "output_type": "display_data"
    }
   ],
   "source": [
    "s1 = df.groupby(['day','bin'])['demand'].sum().loc[7]\n",
    "s2 = df.groupby(['day','bin'])['demand'].sum().loc[14]\n",
    "s3 = df.groupby(['day','bin'])['demand'].sum().loc[21]\n",
    "s4 = df.groupby(['day','bin'])['demand'].sum().loc[28]\n",
    "\n",
    "fig, ax = plt.subplots()\n",
    "\n",
    "# Plotting the histograms\n",
    "series_list = [s1, s2, s3, s4]\n",
    "colors = ['red', 'blue', 'green', 'orange']\n",
    "\n",
    "for i, series in enumerate(series_list):\n",
    "    ax.bar(series.index, series.values, alpha=0.5, color=colors[i], label=f'Week {i+1}')\n",
    "\n",
    "# Adding labels and legend\n",
    "ax.set_xlabel('Value')\n",
    "ax.set_ylabel('Frequency')\n",
    "ax.set_title('Demand')\n",
    "ax.legend()\n",
    "\n",
    "# Display the plot\n",
    "plt.show()"
   ]
  },
  {
   "cell_type": "code",
   "execution_count": null,
   "metadata": {},
   "outputs": [
    {
     "data": {
      "text/html": [
       "<div>\n",
       "<style scoped>\n",
       "    .dataframe tbody tr th:only-of-type {\n",
       "        vertical-align: middle;\n",
       "    }\n",
       "\n",
       "    .dataframe tbody tr th {\n",
       "        vertical-align: top;\n",
       "    }\n",
       "\n",
       "    .dataframe thead th {\n",
       "        text-align: right;\n",
       "    }\n",
       "</style>\n",
       "<table border=\"1\" class=\"dataframe\">\n",
       "  <thead>\n",
       "    <tr style=\"text-align: right;\">\n",
       "      <th></th>\n",
       "      <th>zone</th>\n",
       "      <th>bin</th>\n",
       "      <th>day</th>\n",
       "      <th>month</th>\n",
       "      <th>time_period</th>\n",
       "      <th>demand</th>\n",
       "      <th>air_temp</th>\n",
       "      <th>air_temp_feel</th>\n",
       "      <th>rain</th>\n",
       "      <th>snow</th>\n",
       "      <th>residential</th>\n",
       "      <th>education</th>\n",
       "      <th>recreational</th>\n",
       "      <th>commercial</th>\n",
       "      <th>health</th>\n",
       "      <th>subway_stations</th>\n",
       "      <th>bus_stops</th>\n",
       "      <th>avg_demand_five</th>\n",
       "      <th>historical_average</th>\n",
       "      <th>timestamp</th>\n",
       "    </tr>\n",
       "  </thead>\n",
       "  <tbody>\n",
       "    <tr>\n",
       "      <th>0</th>\n",
       "      <td>4</td>\n",
       "      <td>0</td>\n",
       "      <td>3</td>\n",
       "      <td>6</td>\n",
       "      <td>off_peak</td>\n",
       "      <td>7.0</td>\n",
       "      <td>73.18</td>\n",
       "      <td>73.31</td>\n",
       "      <td>0.0</td>\n",
       "      <td>0.0</td>\n",
       "      <td>57</td>\n",
       "      <td>11</td>\n",
       "      <td>30</td>\n",
       "      <td>0</td>\n",
       "      <td>1</td>\n",
       "      <td>0.0</td>\n",
       "      <td>11.0</td>\n",
       "      <td>NaN</td>\n",
       "      <td>6.052632</td>\n",
       "      <td>54432</td>\n",
       "    </tr>\n",
       "    <tr>\n",
       "      <th>1</th>\n",
       "      <td>4</td>\n",
       "      <td>1</td>\n",
       "      <td>3</td>\n",
       "      <td>6</td>\n",
       "      <td>off_peak</td>\n",
       "      <td>5.0</td>\n",
       "      <td>73.18</td>\n",
       "      <td>73.31</td>\n",
       "      <td>0.0</td>\n",
       "      <td>0.0</td>\n",
       "      <td>57</td>\n",
       "      <td>11</td>\n",
       "      <td>30</td>\n",
       "      <td>0</td>\n",
       "      <td>1</td>\n",
       "      <td>0.0</td>\n",
       "      <td>11.0</td>\n",
       "      <td>NaN</td>\n",
       "      <td>4.315789</td>\n",
       "      <td>54433</td>\n",
       "    </tr>\n",
       "    <tr>\n",
       "      <th>2</th>\n",
       "      <td>4</td>\n",
       "      <td>2</td>\n",
       "      <td>3</td>\n",
       "      <td>6</td>\n",
       "      <td>off_peak</td>\n",
       "      <td>1.0</td>\n",
       "      <td>73.18</td>\n",
       "      <td>73.31</td>\n",
       "      <td>0.0</td>\n",
       "      <td>0.0</td>\n",
       "      <td>57</td>\n",
       "      <td>11</td>\n",
       "      <td>30</td>\n",
       "      <td>0</td>\n",
       "      <td>1</td>\n",
       "      <td>0.0</td>\n",
       "      <td>11.0</td>\n",
       "      <td>NaN</td>\n",
       "      <td>4.473684</td>\n",
       "      <td>54434</td>\n",
       "    </tr>\n",
       "    <tr>\n",
       "      <th>3</th>\n",
       "      <td>4</td>\n",
       "      <td>3</td>\n",
       "      <td>3</td>\n",
       "      <td>6</td>\n",
       "      <td>off_peak</td>\n",
       "      <td>3.0</td>\n",
       "      <td>73.18</td>\n",
       "      <td>73.31</td>\n",
       "      <td>0.0</td>\n",
       "      <td>0.0</td>\n",
       "      <td>57</td>\n",
       "      <td>11</td>\n",
       "      <td>30</td>\n",
       "      <td>0</td>\n",
       "      <td>1</td>\n",
       "      <td>0.0</td>\n",
       "      <td>11.0</td>\n",
       "      <td>NaN</td>\n",
       "      <td>3.631579</td>\n",
       "      <td>54435</td>\n",
       "    </tr>\n",
       "    <tr>\n",
       "      <th>4</th>\n",
       "      <td>4</td>\n",
       "      <td>4</td>\n",
       "      <td>3</td>\n",
       "      <td>6</td>\n",
       "      <td>off_peak</td>\n",
       "      <td>1.0</td>\n",
       "      <td>73.18</td>\n",
       "      <td>73.31</td>\n",
       "      <td>0.0</td>\n",
       "      <td>0.0</td>\n",
       "      <td>57</td>\n",
       "      <td>11</td>\n",
       "      <td>30</td>\n",
       "      <td>0</td>\n",
       "      <td>1</td>\n",
       "      <td>0.0</td>\n",
       "      <td>11.0</td>\n",
       "      <td>3.4</td>\n",
       "      <td>4.631579</td>\n",
       "      <td>54436</td>\n",
       "    </tr>\n",
       "  </tbody>\n",
       "</table>\n",
       "</div>"
      ],
      "text/plain": [
       "   zone  bin  day  month time_period  demand  air_temp  air_temp_feel  rain  \\\n",
       "0     4    0    3      6    off_peak     7.0     73.18          73.31   0.0   \n",
       "1     4    1    3      6    off_peak     5.0     73.18          73.31   0.0   \n",
       "2     4    2    3      6    off_peak     1.0     73.18          73.31   0.0   \n",
       "3     4    3    3      6    off_peak     3.0     73.18          73.31   0.0   \n",
       "4     4    4    3      6    off_peak     1.0     73.18          73.31   0.0   \n",
       "\n",
       "   snow  residential  education  recreational  commercial  health  \\\n",
       "0   0.0           57         11            30           0       1   \n",
       "1   0.0           57         11            30           0       1   \n",
       "2   0.0           57         11            30           0       1   \n",
       "3   0.0           57         11            30           0       1   \n",
       "4   0.0           57         11            30           0       1   \n",
       "\n",
       "   subway_stations  bus_stops  avg_demand_five  historical_average  timestamp  \n",
       "0              0.0       11.0              NaN            6.052632      54432  \n",
       "1              0.0       11.0              NaN            4.315789      54433  \n",
       "2              0.0       11.0              NaN            4.473684      54434  \n",
       "3              0.0       11.0              NaN            3.631579      54435  \n",
       "4              0.0       11.0              3.4            4.631579      54436  "
      ]
     },
     "execution_count": 3,
     "metadata": {},
     "output_type": "execute_result"
    }
   ],
   "source": [
    "df.head()"
   ]
  },
  {
   "cell_type": "code",
   "execution_count": 3,
   "metadata": {},
   "outputs": [],
   "source": [
    "zone_id = df['zone'].unique()"
   ]
  },
  {
   "attachments": {},
   "cell_type": "markdown",
   "metadata": {},
   "source": [
    "### Demand deviation"
   ]
  },
  {
   "attachments": {},
   "cell_type": "markdown",
   "metadata": {},
   "source": [
    "Process the demand into the deviation from the same time of the previous week."
   ]
  },
  {
   "cell_type": "code",
   "execution_count": null,
   "metadata": {},
   "outputs": [],
   "source": [
    "def pre_demand(row,df):\n",
    "    pre_demand = df[(df['bin']==row['bin'])&(df['day']==row['day']-7)]['demand'].values\n",
    "    if len(pre_demand)==0:\n",
    "        return None\n",
    "    else:\n",
    "        return pre_demand[0]\n",
    "\n",
    "def demand_diff(df, res):\n",
    "    \n",
    "    df['demand_ref'] = df.apply(lambda x:pre_demand(x,df),axis=1)\n",
    "    res.append(df)"
   ]
  },
  {
   "cell_type": "code",
   "execution_count": null,
   "metadata": {},
   "outputs": [],
   "source": [
    "res = []\n",
    "_ = df.groupby('zone').apply(lambda df:demand_diff(df,res))"
   ]
  },
  {
   "cell_type": "code",
   "execution_count": null,
   "metadata": {},
   "outputs": [
    {
     "data": {
      "text/html": [
       "<div>\n",
       "<style scoped>\n",
       "    .dataframe tbody tr th:only-of-type {\n",
       "        vertical-align: middle;\n",
       "    }\n",
       "\n",
       "    .dataframe tbody tr th {\n",
       "        vertical-align: top;\n",
       "    }\n",
       "\n",
       "    .dataframe thead th {\n",
       "        text-align: right;\n",
       "    }\n",
       "</style>\n",
       "<table border=\"1\" class=\"dataframe\">\n",
       "  <thead>\n",
       "    <tr style=\"text-align: right;\">\n",
       "      <th></th>\n",
       "      <th>zone</th>\n",
       "      <th>bin</th>\n",
       "      <th>day</th>\n",
       "      <th>month</th>\n",
       "      <th>time_period</th>\n",
       "      <th>demand</th>\n",
       "      <th>air_temp</th>\n",
       "      <th>air_temp_feel</th>\n",
       "      <th>rain</th>\n",
       "      <th>snow</th>\n",
       "      <th>...</th>\n",
       "      <th>education</th>\n",
       "      <th>recreational</th>\n",
       "      <th>commercial</th>\n",
       "      <th>health</th>\n",
       "      <th>subway_stations</th>\n",
       "      <th>bus_stops</th>\n",
       "      <th>avg_demand_five</th>\n",
       "      <th>historical_average</th>\n",
       "      <th>timestamp</th>\n",
       "      <th>demand_ref</th>\n",
       "    </tr>\n",
       "  </thead>\n",
       "  <tbody>\n",
       "    <tr>\n",
       "      <th>0</th>\n",
       "      <td>4</td>\n",
       "      <td>0</td>\n",
       "      <td>3</td>\n",
       "      <td>6</td>\n",
       "      <td>off_peak</td>\n",
       "      <td>7.0</td>\n",
       "      <td>73.18</td>\n",
       "      <td>73.31</td>\n",
       "      <td>0.0</td>\n",
       "      <td>0.0</td>\n",
       "      <td>...</td>\n",
       "      <td>11</td>\n",
       "      <td>30</td>\n",
       "      <td>0</td>\n",
       "      <td>1</td>\n",
       "      <td>0.0</td>\n",
       "      <td>11.0</td>\n",
       "      <td>NaN</td>\n",
       "      <td>6.052632</td>\n",
       "      <td>54432</td>\n",
       "      <td>NaN</td>\n",
       "    </tr>\n",
       "    <tr>\n",
       "      <th>1</th>\n",
       "      <td>4</td>\n",
       "      <td>1</td>\n",
       "      <td>3</td>\n",
       "      <td>6</td>\n",
       "      <td>off_peak</td>\n",
       "      <td>5.0</td>\n",
       "      <td>73.18</td>\n",
       "      <td>73.31</td>\n",
       "      <td>0.0</td>\n",
       "      <td>0.0</td>\n",
       "      <td>...</td>\n",
       "      <td>11</td>\n",
       "      <td>30</td>\n",
       "      <td>0</td>\n",
       "      <td>1</td>\n",
       "      <td>0.0</td>\n",
       "      <td>11.0</td>\n",
       "      <td>NaN</td>\n",
       "      <td>4.315789</td>\n",
       "      <td>54433</td>\n",
       "      <td>NaN</td>\n",
       "    </tr>\n",
       "    <tr>\n",
       "      <th>2</th>\n",
       "      <td>4</td>\n",
       "      <td>2</td>\n",
       "      <td>3</td>\n",
       "      <td>6</td>\n",
       "      <td>off_peak</td>\n",
       "      <td>1.0</td>\n",
       "      <td>73.18</td>\n",
       "      <td>73.31</td>\n",
       "      <td>0.0</td>\n",
       "      <td>0.0</td>\n",
       "      <td>...</td>\n",
       "      <td>11</td>\n",
       "      <td>30</td>\n",
       "      <td>0</td>\n",
       "      <td>1</td>\n",
       "      <td>0.0</td>\n",
       "      <td>11.0</td>\n",
       "      <td>NaN</td>\n",
       "      <td>4.473684</td>\n",
       "      <td>54434</td>\n",
       "      <td>NaN</td>\n",
       "    </tr>\n",
       "    <tr>\n",
       "      <th>3</th>\n",
       "      <td>4</td>\n",
       "      <td>3</td>\n",
       "      <td>3</td>\n",
       "      <td>6</td>\n",
       "      <td>off_peak</td>\n",
       "      <td>3.0</td>\n",
       "      <td>73.18</td>\n",
       "      <td>73.31</td>\n",
       "      <td>0.0</td>\n",
       "      <td>0.0</td>\n",
       "      <td>...</td>\n",
       "      <td>11</td>\n",
       "      <td>30</td>\n",
       "      <td>0</td>\n",
       "      <td>1</td>\n",
       "      <td>0.0</td>\n",
       "      <td>11.0</td>\n",
       "      <td>NaN</td>\n",
       "      <td>3.631579</td>\n",
       "      <td>54435</td>\n",
       "      <td>NaN</td>\n",
       "    </tr>\n",
       "    <tr>\n",
       "      <th>4</th>\n",
       "      <td>4</td>\n",
       "      <td>4</td>\n",
       "      <td>3</td>\n",
       "      <td>6</td>\n",
       "      <td>off_peak</td>\n",
       "      <td>1.0</td>\n",
       "      <td>73.18</td>\n",
       "      <td>73.31</td>\n",
       "      <td>0.0</td>\n",
       "      <td>0.0</td>\n",
       "      <td>...</td>\n",
       "      <td>11</td>\n",
       "      <td>30</td>\n",
       "      <td>0</td>\n",
       "      <td>1</td>\n",
       "      <td>0.0</td>\n",
       "      <td>11.0</td>\n",
       "      <td>3.4</td>\n",
       "      <td>4.631579</td>\n",
       "      <td>54436</td>\n",
       "      <td>NaN</td>\n",
       "    </tr>\n",
       "  </tbody>\n",
       "</table>\n",
       "<p>5 rows × 21 columns</p>\n",
       "</div>"
      ],
      "text/plain": [
       "   zone  bin  day  month time_period  demand  air_temp  air_temp_feel  rain  \\\n",
       "0     4    0    3      6    off_peak     7.0     73.18          73.31   0.0   \n",
       "1     4    1    3      6    off_peak     5.0     73.18          73.31   0.0   \n",
       "2     4    2    3      6    off_peak     1.0     73.18          73.31   0.0   \n",
       "3     4    3    3      6    off_peak     3.0     73.18          73.31   0.0   \n",
       "4     4    4    3      6    off_peak     1.0     73.18          73.31   0.0   \n",
       "\n",
       "   snow  ...  education  recreational  commercial  health  subway_stations  \\\n",
       "0   0.0  ...         11            30           0       1              0.0   \n",
       "1   0.0  ...         11            30           0       1              0.0   \n",
       "2   0.0  ...         11            30           0       1              0.0   \n",
       "3   0.0  ...         11            30           0       1              0.0   \n",
       "4   0.0  ...         11            30           0       1              0.0   \n",
       "\n",
       "   bus_stops  avg_demand_five  historical_average  timestamp  demand_ref  \n",
       "0       11.0              NaN            6.052632      54432         NaN  \n",
       "1       11.0              NaN            4.315789      54433         NaN  \n",
       "2       11.0              NaN            4.473684      54434         NaN  \n",
       "3       11.0              NaN            3.631579      54435         NaN  \n",
       "4       11.0              3.4            4.631579      54436         NaN  \n",
       "\n",
       "[5 rows x 21 columns]"
      ]
     },
     "execution_count": 32,
     "metadata": {},
     "output_type": "execute_result"
    }
   ],
   "source": [
    "df_temp = pd.concat(res)\n",
    "df_temp.head()"
   ]
  },
  {
   "cell_type": "code",
   "execution_count": null,
   "metadata": {},
   "outputs": [
    {
     "name": "stderr",
     "output_type": "stream",
     "text": [
      "C:\\Users\\11481\\AppData\\Local\\Temp\\ipykernel_13200\\549742825.py:2: SettingWithCopyWarning: \n",
      "A value is trying to be set on a copy of a slice from a DataFrame.\n",
      "Try using .loc[row_indexer,col_indexer] = value instead\n",
      "\n",
      "See the caveats in the documentation: https://pandas.pydata.org/pandas-docs/stable/user_guide/indexing.html#returning-a-view-versus-a-copy\n",
      "  df['demand_diff'] = df['demand'] - df['demand_ref']\n"
     ]
    }
   ],
   "source": [
    "df = df_temp.dropna()\n",
    "df['demand_diff'] = df['demand'] - df['demand_ref']"
   ]
  },
  {
   "cell_type": "code",
   "execution_count": null,
   "metadata": {},
   "outputs": [
    {
     "name": "stderr",
     "output_type": "stream",
     "text": [
      "C:\\Users\\11481\\AppData\\Local\\Temp\\ipykernel_13200\\1108352270.py:1: SettingWithCopyWarning: \n",
      "A value is trying to be set on a copy of a slice from a DataFrame\n",
      "\n",
      "See the caveats in the documentation: https://pandas.pydata.org/pandas-docs/stable/user_guide/indexing.html#returning-a-view-versus-a-copy\n",
      "  df.drop(['demand'],axis=1,inplace=True)\n",
      "C:\\Users\\11481\\AppData\\Local\\Temp\\ipykernel_13200\\1108352270.py:2: SettingWithCopyWarning: \n",
      "A value is trying to be set on a copy of a slice from a DataFrame\n",
      "\n",
      "See the caveats in the documentation: https://pandas.pydata.org/pandas-docs/stable/user_guide/indexing.html#returning-a-view-versus-a-copy\n",
      "  df.rename(columns={'demand_diff':'demand'},inplace=True)\n"
     ]
    }
   ],
   "source": [
    "df.drop(['demand'],axis=1,inplace=True)\n",
    "df.rename(columns={'demand_diff':'demand'},inplace=True)"
   ]
  },
  {
   "attachments": {},
   "cell_type": "markdown",
   "metadata": {},
   "source": [
    "### Demand"
   ]
  },
  {
   "cell_type": "code",
   "execution_count": 29,
   "metadata": {},
   "outputs": [
    {
     "data": {
      "text/html": [
       "<div>\n",
       "<style scoped>\n",
       "    .dataframe tbody tr th:only-of-type {\n",
       "        vertical-align: middle;\n",
       "    }\n",
       "\n",
       "    .dataframe tbody tr th {\n",
       "        vertical-align: top;\n",
       "    }\n",
       "\n",
       "    .dataframe thead th {\n",
       "        text-align: right;\n",
       "    }\n",
       "</style>\n",
       "<table border=\"1\" class=\"dataframe\">\n",
       "  <thead>\n",
       "    <tr style=\"text-align: right;\">\n",
       "      <th></th>\n",
       "      <th>zone</th>\n",
       "      <th>month</th>\n",
       "      <th>day</th>\n",
       "      <th>bin</th>\n",
       "      <th>demand</th>\n",
       "      <th>timestamp</th>\n",
       "    </tr>\n",
       "  </thead>\n",
       "  <tbody>\n",
       "    <tr>\n",
       "      <th>5468</th>\n",
       "      <td>4</td>\n",
       "      <td>6</td>\n",
       "      <td>27</td>\n",
       "      <td>284</td>\n",
       "      <td>7.0</td>\n",
       "      <td>61628</td>\n",
       "    </tr>\n",
       "    <tr>\n",
       "      <th>11228</th>\n",
       "      <td>12</td>\n",
       "      <td>6</td>\n",
       "      <td>27</td>\n",
       "      <td>284</td>\n",
       "      <td>0.0</td>\n",
       "      <td>61628</td>\n",
       "    </tr>\n",
       "    <tr>\n",
       "      <th>16988</th>\n",
       "      <td>13</td>\n",
       "      <td>6</td>\n",
       "      <td>27</td>\n",
       "      <td>284</td>\n",
       "      <td>12.0</td>\n",
       "      <td>61628</td>\n",
       "    </tr>\n",
       "    <tr>\n",
       "      <th>22748</th>\n",
       "      <td>24</td>\n",
       "      <td>6</td>\n",
       "      <td>27</td>\n",
       "      <td>284</td>\n",
       "      <td>4.0</td>\n",
       "      <td>61628</td>\n",
       "    </tr>\n",
       "    <tr>\n",
       "      <th>28508</th>\n",
       "      <td>41</td>\n",
       "      <td>6</td>\n",
       "      <td>27</td>\n",
       "      <td>284</td>\n",
       "      <td>14.0</td>\n",
       "      <td>61628</td>\n",
       "    </tr>\n",
       "    <tr>\n",
       "      <th>34268</th>\n",
       "      <td>42</td>\n",
       "      <td>6</td>\n",
       "      <td>27</td>\n",
       "      <td>284</td>\n",
       "      <td>15.0</td>\n",
       "      <td>61628</td>\n",
       "    </tr>\n",
       "    <tr>\n",
       "      <th>40028</th>\n",
       "      <td>43</td>\n",
       "      <td>6</td>\n",
       "      <td>27</td>\n",
       "      <td>284</td>\n",
       "      <td>1.0</td>\n",
       "      <td>61628</td>\n",
       "    </tr>\n",
       "    <tr>\n",
       "      <th>45788</th>\n",
       "      <td>45</td>\n",
       "      <td>6</td>\n",
       "      <td>27</td>\n",
       "      <td>284</td>\n",
       "      <td>6.0</td>\n",
       "      <td>61628</td>\n",
       "    </tr>\n",
       "    <tr>\n",
       "      <th>51548</th>\n",
       "      <td>48</td>\n",
       "      <td>6</td>\n",
       "      <td>27</td>\n",
       "      <td>284</td>\n",
       "      <td>48.0</td>\n",
       "      <td>61628</td>\n",
       "    </tr>\n",
       "    <tr>\n",
       "      <th>57308</th>\n",
       "      <td>50</td>\n",
       "      <td>6</td>\n",
       "      <td>27</td>\n",
       "      <td>284</td>\n",
       "      <td>15.0</td>\n",
       "      <td>61628</td>\n",
       "    </tr>\n",
       "  </tbody>\n",
       "</table>\n",
       "</div>"
      ],
      "text/plain": [
       "       zone  month  day  bin  demand  timestamp\n",
       "5468      4      6   27  284     7.0      61628\n",
       "11228    12      6   27  284     0.0      61628\n",
       "16988    13      6   27  284    12.0      61628\n",
       "22748    24      6   27  284     4.0      61628\n",
       "28508    41      6   27  284    14.0      61628\n",
       "34268    42      6   27  284    15.0      61628\n",
       "40028    43      6   27  284     1.0      61628\n",
       "45788    45      6   27  284     6.0      61628\n",
       "51548    48      6   27  284    48.0      61628\n",
       "57308    50      6   27  284    15.0      61628"
      ]
     },
     "execution_count": 29,
     "metadata": {},
     "output_type": "execute_result"
    }
   ],
   "source": [
    "df = df[(df['timestamp']>=61628)] # starting timestamp - 4 ~ ending timestamp\n",
    "df_demand = df[['zone','month','day','bin','demand','timestamp']]\n",
    "df_demand = df_demand.sort_values(by=['month','day','bin','zone'])\n",
    "df_demand.head(10)"
   ]
  },
  {
   "cell_type": "code",
   "execution_count": 30,
   "metadata": {},
   "outputs": [],
   "source": [
    "def combine(df_demand,df,x,y,timestamp,included,lookback=2):\n",
    "    df = df.sort_values('zone')\n",
    "    time = df['timestamp'].values[0]\n",
    "    if (time-lookback) in included:\n",
    "        timestamp.append(time)\n",
    "\n",
    "        feature_time = [time-i for i in reversed(range(1,lookback+1))]\n",
    "        pre_demand = df_demand.loc[(df_demand['timestamp'].isin(feature_time))]\n",
    "\n",
    "        features = pre_demand.groupby(['zone'])['demand'].agg(lambda x:x.tolist()).to_list()\n",
    "        labels = df['demand'].to_list()\n",
    "        \n",
    "        x.append(features)\n",
    "        y.append(labels)"
   ]
  },
  {
   "cell_type": "code",
   "execution_count": 31,
   "metadata": {},
   "outputs": [],
   "source": [
    "included = df_demand['timestamp'].unique()\n",
    "timestamp = []\n",
    "x = []\n",
    "y = []\n",
    "_ = df_demand.groupby('timestamp').apply(lambda df:combine(df_demand,df,x,y,timestamp,included))"
   ]
  },
  {
   "cell_type": "code",
   "execution_count": 32,
   "metadata": {},
   "outputs": [],
   "source": [
    "x_new = []\n",
    "y_new = []\n",
    "timestamp_new = []\n",
    "for i, time in enumerate(timestamp):\n",
    "    temp_x = []\n",
    "    if (time-2) in timestamp:\n",
    "        temp_x.append(x[i-2])\n",
    "        temp_x.append(x[i-1])\n",
    "        x_new.append(temp_x)\n",
    "        y_new.append(y[i])\n",
    "        timestamp_new.append(time)"
   ]
  },
  {
   "cell_type": "code",
   "execution_count": 33,
   "metadata": {},
   "outputs": [
    {
     "data": {
      "text/plain": [
       "288"
      ]
     },
     "execution_count": 33,
     "metadata": {},
     "output_type": "execute_result"
    }
   ],
   "source": [
    "len(x_new)"
   ]
  },
  {
   "cell_type": "code",
   "execution_count": 34,
   "metadata": {},
   "outputs": [
    {
     "data": {
      "text/plain": [
       "288"
      ]
     },
     "execution_count": 34,
     "metadata": {},
     "output_type": "execute_result"
    }
   ],
   "source": [
    "len(y_new)"
   ]
  },
  {
   "cell_type": "code",
   "execution_count": 35,
   "metadata": {},
   "outputs": [],
   "source": [
    "x = np.array(x_new)\n",
    "y = np.array(y_new)"
   ]
  },
  {
   "cell_type": "code",
   "execution_count": 36,
   "metadata": {},
   "outputs": [
    {
     "data": {
      "text/plain": [
       "288"
      ]
     },
     "execution_count": 36,
     "metadata": {},
     "output_type": "execute_result"
    }
   ],
   "source": [
    "len(timestamp_new)"
   ]
  },
  {
   "cell_type": "code",
   "execution_count": 37,
   "metadata": {},
   "outputs": [
    {
     "data": {
      "text/plain": [
       "(288, 2, 63, 2)"
      ]
     },
     "execution_count": 37,
     "metadata": {},
     "output_type": "execute_result"
    }
   ],
   "source": [
    "x.shape"
   ]
  },
  {
   "attachments": {},
   "cell_type": "markdown",
   "metadata": {},
   "source": [
    "### History"
   ]
  },
  {
   "cell_type": "code",
   "execution_count": 38,
   "metadata": {},
   "outputs": [
    {
     "data": {
      "text/html": [
       "<div>\n",
       "<style scoped>\n",
       "    .dataframe tbody tr th:only-of-type {\n",
       "        vertical-align: middle;\n",
       "    }\n",
       "\n",
       "    .dataframe tbody tr th {\n",
       "        vertical-align: top;\n",
       "    }\n",
       "\n",
       "    .dataframe thead th {\n",
       "        text-align: right;\n",
       "    }\n",
       "</style>\n",
       "<table border=\"1\" class=\"dataframe\">\n",
       "  <thead>\n",
       "    <tr style=\"text-align: right;\">\n",
       "      <th></th>\n",
       "      <th>zone</th>\n",
       "      <th>month</th>\n",
       "      <th>day</th>\n",
       "      <th>bin</th>\n",
       "      <th>historical_average</th>\n",
       "      <th>timestamp</th>\n",
       "    </tr>\n",
       "  </thead>\n",
       "  <tbody>\n",
       "    <tr>\n",
       "      <th>5472</th>\n",
       "      <td>4</td>\n",
       "      <td>6</td>\n",
       "      <td>28</td>\n",
       "      <td>0</td>\n",
       "      <td>6.052632</td>\n",
       "      <td>61632</td>\n",
       "    </tr>\n",
       "    <tr>\n",
       "      <th>11232</th>\n",
       "      <td>12</td>\n",
       "      <td>6</td>\n",
       "      <td>28</td>\n",
       "      <td>0</td>\n",
       "      <td>0.105263</td>\n",
       "      <td>61632</td>\n",
       "    </tr>\n",
       "    <tr>\n",
       "      <th>16992</th>\n",
       "      <td>13</td>\n",
       "      <td>6</td>\n",
       "      <td>28</td>\n",
       "      <td>0</td>\n",
       "      <td>5.368421</td>\n",
       "      <td>61632</td>\n",
       "    </tr>\n",
       "    <tr>\n",
       "      <th>22752</th>\n",
       "      <td>24</td>\n",
       "      <td>6</td>\n",
       "      <td>28</td>\n",
       "      <td>0</td>\n",
       "      <td>2.421053</td>\n",
       "      <td>61632</td>\n",
       "    </tr>\n",
       "    <tr>\n",
       "      <th>28512</th>\n",
       "      <td>41</td>\n",
       "      <td>6</td>\n",
       "      <td>28</td>\n",
       "      <td>0</td>\n",
       "      <td>9.842105</td>\n",
       "      <td>61632</td>\n",
       "    </tr>\n",
       "  </tbody>\n",
       "</table>\n",
       "</div>"
      ],
      "text/plain": [
       "       zone  month  day  bin  historical_average  timestamp\n",
       "5472      4      6   28    0            6.052632      61632\n",
       "11232    12      6   28    0            0.105263      61632\n",
       "16992    13      6   28    0            5.368421      61632\n",
       "22752    24      6   28    0            2.421053      61632\n",
       "28512    41      6   28    0            9.842105      61632"
      ]
     },
     "execution_count": 38,
     "metadata": {},
     "output_type": "execute_result"
    }
   ],
   "source": [
    "history = df[['zone','month','day','bin','historical_average','timestamp']]\n",
    "history = history[history['timestamp'].isin(timestamp_new)]\n",
    "history = history.sort_values(by=['timestamp','zone'])\n",
    "history.head()"
   ]
  },
  {
   "cell_type": "code",
   "execution_count": 39,
   "metadata": {},
   "outputs": [],
   "source": [
    "his = np.array(history.groupby('timestamp')['historical_average'].agg(lambda x: x.to_list()).to_list())\n",
    "# np.save('data/processed/history_diff.npy',his)"
   ]
  },
  {
   "attachments": {},
   "cell_type": "markdown",
   "metadata": {},
   "source": [
    "### Level of service"
   ]
  },
  {
   "cell_type": "code",
   "execution_count": 40,
   "metadata": {},
   "outputs": [
    {
     "data": {
      "text/html": [
       "<div>\n",
       "<style scoped>\n",
       "    .dataframe tbody tr th:only-of-type {\n",
       "        vertical-align: middle;\n",
       "    }\n",
       "\n",
       "    .dataframe tbody tr th {\n",
       "        vertical-align: top;\n",
       "    }\n",
       "\n",
       "    .dataframe thead th {\n",
       "        text-align: right;\n",
       "    }\n",
       "</style>\n",
       "<table border=\"1\" class=\"dataframe\">\n",
       "  <thead>\n",
       "    <tr style=\"text-align: right;\">\n",
       "      <th></th>\n",
       "      <th>zone</th>\n",
       "      <th>month</th>\n",
       "      <th>day</th>\n",
       "      <th>bin</th>\n",
       "      <th>subway_stations</th>\n",
       "      <th>bus_stops</th>\n",
       "      <th>timestamp</th>\n",
       "      <th>public</th>\n",
       "    </tr>\n",
       "  </thead>\n",
       "  <tbody>\n",
       "    <tr>\n",
       "      <th>5472</th>\n",
       "      <td>4</td>\n",
       "      <td>6</td>\n",
       "      <td>28</td>\n",
       "      <td>0</td>\n",
       "      <td>0.0</td>\n",
       "      <td>11.0</td>\n",
       "      <td>61632</td>\n",
       "      <td>2.2</td>\n",
       "    </tr>\n",
       "    <tr>\n",
       "      <th>11232</th>\n",
       "      <td>12</td>\n",
       "      <td>6</td>\n",
       "      <td>28</td>\n",
       "      <td>0</td>\n",
       "      <td>0.0</td>\n",
       "      <td>0.0</td>\n",
       "      <td>61632</td>\n",
       "      <td>0.0</td>\n",
       "    </tr>\n",
       "    <tr>\n",
       "      <th>16992</th>\n",
       "      <td>13</td>\n",
       "      <td>6</td>\n",
       "      <td>28</td>\n",
       "      <td>0</td>\n",
       "      <td>0.0</td>\n",
       "      <td>3.0</td>\n",
       "      <td>61632</td>\n",
       "      <td>0.6</td>\n",
       "    </tr>\n",
       "    <tr>\n",
       "      <th>22752</th>\n",
       "      <td>24</td>\n",
       "      <td>6</td>\n",
       "      <td>28</td>\n",
       "      <td>0</td>\n",
       "      <td>1.0</td>\n",
       "      <td>13.0</td>\n",
       "      <td>61632</td>\n",
       "      <td>3.6</td>\n",
       "    </tr>\n",
       "    <tr>\n",
       "      <th>28512</th>\n",
       "      <td>41</td>\n",
       "      <td>6</td>\n",
       "      <td>28</td>\n",
       "      <td>0</td>\n",
       "      <td>6.0</td>\n",
       "      <td>36.0</td>\n",
       "      <td>61632</td>\n",
       "      <td>13.2</td>\n",
       "    </tr>\n",
       "  </tbody>\n",
       "</table>\n",
       "</div>"
      ],
      "text/plain": [
       "       zone  month  day  bin  subway_stations  bus_stops  timestamp  public\n",
       "5472      4      6   28    0              0.0       11.0      61632     2.2\n",
       "11232    12      6   28    0              0.0        0.0      61632     0.0\n",
       "16992    13      6   28    0              0.0        3.0      61632     0.6\n",
       "22752    24      6   28    0              1.0       13.0      61632     3.6\n",
       "28512    41      6   28    0              6.0       36.0      61632    13.2"
      ]
     },
     "execution_count": 40,
     "metadata": {},
     "output_type": "execute_result"
    }
   ],
   "source": [
    "los = df[['zone','month','day','bin','subway_stations','bus_stops','timestamp']]\n",
    "los = los[los['timestamp'].isin(timestamp_new)]\n",
    "los = los.sort_values(by=['timestamp','zone'])\n",
    "los['public'] = los['subway_stations'] + 0.2*los['bus_stops']\n",
    "los.head()"
   ]
  },
  {
   "cell_type": "code",
   "execution_count": 41,
   "metadata": {},
   "outputs": [],
   "source": [
    "losn = np.array(los.groupby('timestamp')['public'].agg(lambda x: x.to_list()).to_list())\n",
    "# np.save('data/processed/los_diff.npy',losn)"
   ]
  },
  {
   "attachments": {},
   "cell_type": "markdown",
   "metadata": {},
   "source": [
    "### Weather"
   ]
  },
  {
   "cell_type": "code",
   "execution_count": 42,
   "metadata": {},
   "outputs": [
    {
     "data": {
      "text/html": [
       "<div>\n",
       "<style scoped>\n",
       "    .dataframe tbody tr th:only-of-type {\n",
       "        vertical-align: middle;\n",
       "    }\n",
       "\n",
       "    .dataframe tbody tr th {\n",
       "        vertical-align: top;\n",
       "    }\n",
       "\n",
       "    .dataframe thead th {\n",
       "        text-align: right;\n",
       "    }\n",
       "</style>\n",
       "<table border=\"1\" class=\"dataframe\">\n",
       "  <thead>\n",
       "    <tr style=\"text-align: right;\">\n",
       "      <th></th>\n",
       "      <th>zone</th>\n",
       "      <th>month</th>\n",
       "      <th>day</th>\n",
       "      <th>bin</th>\n",
       "      <th>air_temp_feel</th>\n",
       "      <th>rain</th>\n",
       "      <th>timestamp</th>\n",
       "    </tr>\n",
       "  </thead>\n",
       "  <tbody>\n",
       "    <tr>\n",
       "      <th>5472</th>\n",
       "      <td>4</td>\n",
       "      <td>6</td>\n",
       "      <td>28</td>\n",
       "      <td>0</td>\n",
       "      <td>84.7</td>\n",
       "      <td>0.0</td>\n",
       "      <td>61632</td>\n",
       "    </tr>\n",
       "    <tr>\n",
       "      <th>11232</th>\n",
       "      <td>12</td>\n",
       "      <td>6</td>\n",
       "      <td>28</td>\n",
       "      <td>0</td>\n",
       "      <td>84.7</td>\n",
       "      <td>0.0</td>\n",
       "      <td>61632</td>\n",
       "    </tr>\n",
       "    <tr>\n",
       "      <th>16992</th>\n",
       "      <td>13</td>\n",
       "      <td>6</td>\n",
       "      <td>28</td>\n",
       "      <td>0</td>\n",
       "      <td>84.7</td>\n",
       "      <td>0.0</td>\n",
       "      <td>61632</td>\n",
       "    </tr>\n",
       "    <tr>\n",
       "      <th>22752</th>\n",
       "      <td>24</td>\n",
       "      <td>6</td>\n",
       "      <td>28</td>\n",
       "      <td>0</td>\n",
       "      <td>84.7</td>\n",
       "      <td>0.0</td>\n",
       "      <td>61632</td>\n",
       "    </tr>\n",
       "    <tr>\n",
       "      <th>28512</th>\n",
       "      <td>41</td>\n",
       "      <td>6</td>\n",
       "      <td>28</td>\n",
       "      <td>0</td>\n",
       "      <td>84.7</td>\n",
       "      <td>0.0</td>\n",
       "      <td>61632</td>\n",
       "    </tr>\n",
       "  </tbody>\n",
       "</table>\n",
       "</div>"
      ],
      "text/plain": [
       "       zone  month  day  bin  air_temp_feel  rain  timestamp\n",
       "5472      4      6   28    0           84.7   0.0      61632\n",
       "11232    12      6   28    0           84.7   0.0      61632\n",
       "16992    13      6   28    0           84.7   0.0      61632\n",
       "22752    24      6   28    0           84.7   0.0      61632\n",
       "28512    41      6   28    0           84.7   0.0      61632"
      ]
     },
     "execution_count": 42,
     "metadata": {},
     "output_type": "execute_result"
    }
   ],
   "source": [
    "weather = df[['zone','month','day','bin','air_temp_feel','rain','timestamp']]\n",
    "weather = weather[weather['timestamp'].isin(timestamp_new)]\n",
    "weather = weather.sort_values(by=['timestamp','zone'])\n",
    "weather.head()"
   ]
  },
  {
   "cell_type": "code",
   "execution_count": 43,
   "metadata": {},
   "outputs": [],
   "source": [
    "weather['weather'] = weather.apply(lambda row:[row['air_temp_feel'],row['rain']],axis=1)\n",
    "wea = np.array(weather.groupby('timestamp')['weather'].agg(lambda x: x.to_list()).to_list())"
   ]
  },
  {
   "cell_type": "code",
   "execution_count": 19,
   "metadata": {},
   "outputs": [
    {
     "data": {
      "text/plain": [
       "(284, 63, 2)"
      ]
     },
     "execution_count": 19,
     "metadata": {},
     "output_type": "execute_result"
    }
   ],
   "source": [
    "wea.shape"
   ]
  },
  {
   "cell_type": "code",
   "execution_count": 44,
   "metadata": {},
   "outputs": [],
   "source": [
    "np.savez('data/processed/0628.npz',x=x_new,y=y_new,history=his,los=losn,weather=wea)"
   ]
  },
  {
   "attachments": {},
   "cell_type": "markdown",
   "metadata": {},
   "source": [
    "### Distribution visualization"
   ]
  },
  {
   "cell_type": "code",
   "execution_count": 26,
   "metadata": {},
   "outputs": [
    {
     "data": {
      "text/plain": [
       "array([  4,  12,  13,  24,  41,  42,  43,  45,  48,  50,  68,  74,  75,\n",
       "        79,  87,  88,  90, 100, 107, 113, 114, 116, 120, 125, 127, 128,\n",
       "       137, 140, 141, 142, 143, 144, 148, 151, 152, 158, 161, 162, 163,\n",
       "       164, 166, 170, 186, 209, 211, 224, 229, 230, 231, 232, 233, 234,\n",
       "       236, 237, 238, 239, 243, 244, 246, 249, 261, 262, 263], dtype=int64)"
      ]
     },
     "execution_count": 26,
     "metadata": {},
     "output_type": "execute_result"
    }
   ],
   "source": [
    "df['zone'].unique()"
   ]
  },
  {
   "cell_type": "code",
   "execution_count": 38,
   "metadata": {},
   "outputs": [
    {
     "data": {
      "text/plain": [
       "<Axes: >"
      ]
     },
     "execution_count": 38,
     "metadata": {},
     "output_type": "execute_result"
    },
    {
     "data": {
      "image/png": "[encoded data removed]",
      "text/plain": [
       "<Figure size 640x480 with 1 Axes>"
      ]
     },
     "metadata": {},
     "output_type": "display_data"
    }
   ],
   "source": [
    "df[df['zone']==43]['demand'].hist(bins=50)"
   ]
  },
  {
   "cell_type": "code",
   "execution_count": null,
   "metadata": {},
   "outputs": [],
   "source": []
  }
 ],
 "metadata": {
  "kernelspec": {
   "display_name": "uncertainty",
   "language": "python",
   "name": "python3"
  },
  "language_info": {
   "codemirror_mode": {
    "name": "ipython",
    "version": 3
   },
   "file_extension": ".py",
   "mimetype": "text/x-python",
   "name": "python",
   "nbconvert_exporter": "python",
   "pygments_lexer": "ipython3",
   "version": "3.11.3"
  },
  "orig_nbformat": 4
 },
 "nbformat": 4,
 "nbformat_minor": 2
}
