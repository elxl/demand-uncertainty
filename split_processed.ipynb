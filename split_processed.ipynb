{
 "cells": [
  {
   "cell_type": "code",
   "execution_count": 1,
   "metadata": {},
   "outputs": [],
   "source": [
    "import pandas as pd\n",
    "import numpy as np\n",
    "import pickle as pkl\n",
    "import geopandas as gpd"
   ]
  },
  {
   "cell_type": "code",
   "execution_count": 2,
   "metadata": {},
   "outputs": [],
   "source": [
    "df = pd.read_csv('data/processed/processed_data.csv')\n",
    "df['timestamp'] = df['bin'] + 288*df['day'] + 31*288*df['month']"
   ]
  },
  {
   "cell_type": "code",
   "execution_count": 3,
   "metadata": {},
   "outputs": [
    {
     "data": {
      "text/html": [
       "<div>\n",
       "<style scoped>\n",
       "    .dataframe tbody tr th:only-of-type {\n",
       "        vertical-align: middle;\n",
       "    }\n",
       "\n",
       "    .dataframe tbody tr th {\n",
       "        vertical-align: top;\n",
       "    }\n",
       "\n",
       "    .dataframe thead th {\n",
       "        text-align: right;\n",
       "    }\n",
       "</style>\n",
       "<table border=\"1\" class=\"dataframe\">\n",
       "  <thead>\n",
       "    <tr style=\"text-align: right;\">\n",
       "      <th></th>\n",
       "      <th>zone</th>\n",
       "      <th>bin</th>\n",
       "      <th>day</th>\n",
       "      <th>month</th>\n",
       "      <th>time_period</th>\n",
       "      <th>demand</th>\n",
       "      <th>air_temp</th>\n",
       "      <th>air_temp_feel</th>\n",
       "      <th>rain</th>\n",
       "      <th>snow</th>\n",
       "      <th>residential</th>\n",
       "      <th>education</th>\n",
       "      <th>recreational</th>\n",
       "      <th>commercial</th>\n",
       "      <th>health</th>\n",
       "      <th>subway_stations</th>\n",
       "      <th>bus_stops</th>\n",
       "      <th>avg_demand_five</th>\n",
       "      <th>historical_average</th>\n",
       "      <th>timestamp</th>\n",
       "    </tr>\n",
       "  </thead>\n",
       "  <tbody>\n",
       "    <tr>\n",
       "      <th>0</th>\n",
       "      <td>4</td>\n",
       "      <td>0</td>\n",
       "      <td>3</td>\n",
       "      <td>6</td>\n",
       "      <td>off_peak</td>\n",
       "      <td>7.0</td>\n",
       "      <td>73.18</td>\n",
       "      <td>73.31</td>\n",
       "      <td>0.0</td>\n",
       "      <td>0.0</td>\n",
       "      <td>57</td>\n",
       "      <td>11</td>\n",
       "      <td>30</td>\n",
       "      <td>0</td>\n",
       "      <td>1</td>\n",
       "      <td>0.0</td>\n",
       "      <td>11.0</td>\n",
       "      <td>NaN</td>\n",
       "      <td>6.052632</td>\n",
       "      <td>54432</td>\n",
       "    </tr>\n",
       "    <tr>\n",
       "      <th>1</th>\n",
       "      <td>4</td>\n",
       "      <td>1</td>\n",
       "      <td>3</td>\n",
       "      <td>6</td>\n",
       "      <td>off_peak</td>\n",
       "      <td>5.0</td>\n",
       "      <td>73.18</td>\n",
       "      <td>73.31</td>\n",
       "      <td>0.0</td>\n",
       "      <td>0.0</td>\n",
       "      <td>57</td>\n",
       "      <td>11</td>\n",
       "      <td>30</td>\n",
       "      <td>0</td>\n",
       "      <td>1</td>\n",
       "      <td>0.0</td>\n",
       "      <td>11.0</td>\n",
       "      <td>NaN</td>\n",
       "      <td>4.315789</td>\n",
       "      <td>54433</td>\n",
       "    </tr>\n",
       "    <tr>\n",
       "      <th>2</th>\n",
       "      <td>4</td>\n",
       "      <td>2</td>\n",
       "      <td>3</td>\n",
       "      <td>6</td>\n",
       "      <td>off_peak</td>\n",
       "      <td>1.0</td>\n",
       "      <td>73.18</td>\n",
       "      <td>73.31</td>\n",
       "      <td>0.0</td>\n",
       "      <td>0.0</td>\n",
       "      <td>57</td>\n",
       "      <td>11</td>\n",
       "      <td>30</td>\n",
       "      <td>0</td>\n",
       "      <td>1</td>\n",
       "      <td>0.0</td>\n",
       "      <td>11.0</td>\n",
       "      <td>NaN</td>\n",
       "      <td>4.473684</td>\n",
       "      <td>54434</td>\n",
       "    </tr>\n",
       "    <tr>\n",
       "      <th>3</th>\n",
       "      <td>4</td>\n",
       "      <td>3</td>\n",
       "      <td>3</td>\n",
       "      <td>6</td>\n",
       "      <td>off_peak</td>\n",
       "      <td>3.0</td>\n",
       "      <td>73.18</td>\n",
       "      <td>73.31</td>\n",
       "      <td>0.0</td>\n",
       "      <td>0.0</td>\n",
       "      <td>57</td>\n",
       "      <td>11</td>\n",
       "      <td>30</td>\n",
       "      <td>0</td>\n",
       "      <td>1</td>\n",
       "      <td>0.0</td>\n",
       "      <td>11.0</td>\n",
       "      <td>NaN</td>\n",
       "      <td>3.631579</td>\n",
       "      <td>54435</td>\n",
       "    </tr>\n",
       "    <tr>\n",
       "      <th>4</th>\n",
       "      <td>4</td>\n",
       "      <td>4</td>\n",
       "      <td>3</td>\n",
       "      <td>6</td>\n",
       "      <td>off_peak</td>\n",
       "      <td>1.0</td>\n",
       "      <td>73.18</td>\n",
       "      <td>73.31</td>\n",
       "      <td>0.0</td>\n",
       "      <td>0.0</td>\n",
       "      <td>57</td>\n",
       "      <td>11</td>\n",
       "      <td>30</td>\n",
       "      <td>0</td>\n",
       "      <td>1</td>\n",
       "      <td>0.0</td>\n",
       "      <td>11.0</td>\n",
       "      <td>3.4</td>\n",
       "      <td>4.631579</td>\n",
       "      <td>54436</td>\n",
       "    </tr>\n",
       "  </tbody>\n",
       "</table>\n",
       "</div>"
      ],
      "text/plain": [
       "   zone  bin  day  month time_period  demand  air_temp  air_temp_feel  rain  \\\n",
       "0     4    0    3      6    off_peak     7.0     73.18          73.31   0.0   \n",
       "1     4    1    3      6    off_peak     5.0     73.18          73.31   0.0   \n",
       "2     4    2    3      6    off_peak     1.0     73.18          73.31   0.0   \n",
       "3     4    3    3      6    off_peak     3.0     73.18          73.31   0.0   \n",
       "4     4    4    3      6    off_peak     1.0     73.18          73.31   0.0   \n",
       "\n",
       "   snow  residential  education  recreational  commercial  health  \\\n",
       "0   0.0           57         11            30           0       1   \n",
       "1   0.0           57         11            30           0       1   \n",
       "2   0.0           57         11            30           0       1   \n",
       "3   0.0           57         11            30           0       1   \n",
       "4   0.0           57         11            30           0       1   \n",
       "\n",
       "   subway_stations  bus_stops  avg_demand_five  historical_average  timestamp  \n",
       "0              0.0       11.0              NaN            6.052632      54432  \n",
       "1              0.0       11.0              NaN            4.315789      54433  \n",
       "2              0.0       11.0              NaN            4.473684      54434  \n",
       "3              0.0       11.0              NaN            3.631579      54435  \n",
       "4              0.0       11.0              3.4            4.631579      54436  "
      ]
     },
     "execution_count": 3,
     "metadata": {},
     "output_type": "execute_result"
    }
   ],
   "source": [
    "df.head()"
   ]
  },
  {
   "cell_type": "code",
   "execution_count": 4,
   "metadata": {},
   "outputs": [],
   "source": [
    "zone_id = df['zone'].unique()"
   ]
  },
  {
   "attachments": {},
   "cell_type": "markdown",
   "metadata": {},
   "source": [
    "### Demand deviation"
   ]
  },
  {
   "attachments": {},
   "cell_type": "markdown",
   "metadata": {},
   "source": [
    "Process the demand into the deviation from the same time of the previous week."
   ]
  },
  {
   "cell_type": "code",
   "execution_count": 22,
   "metadata": {},
   "outputs": [],
   "source": [
    "def pre_demand(row,df):\n",
    "    pre_demand = df[(df['bin']==row['bin'])&(df['day']==row['day']-7)]['demand'].values\n",
    "    if len(pre_demand)==0:\n",
    "        return None\n",
    "    else:\n",
    "        return pre_demand[0]\n",
    "\n",
    "def demand_diff(df, res):\n",
    "    \n",
    "    df['demand_ref'] = df.apply(lambda x:pre_demand(x,df),axis=1)\n",
    "    res.append(df)"
   ]
  },
  {
   "cell_type": "code",
   "execution_count": 23,
   "metadata": {},
   "outputs": [],
   "source": [
    "res = []\n",
    "_ = df.groupby('zone').apply(lambda df:demand_diff(df,res))"
   ]
  },
  {
   "cell_type": "code",
   "execution_count": 32,
   "metadata": {},
   "outputs": [
    {
     "data": {
      "text/html": [
       "<div>\n",
       "<style scoped>\n",
       "    .dataframe tbody tr th:only-of-type {\n",
       "        vertical-align: middle;\n",
       "    }\n",
       "\n",
       "    .dataframe tbody tr th {\n",
       "        vertical-align: top;\n",
       "    }\n",
       "\n",
       "    .dataframe thead th {\n",
       "        text-align: right;\n",
       "    }\n",
       "</style>\n",
       "<table border=\"1\" class=\"dataframe\">\n",
       "  <thead>\n",
       "    <tr style=\"text-align: right;\">\n",
       "      <th></th>\n",
       "      <th>zone</th>\n",
       "      <th>bin</th>\n",
       "      <th>day</th>\n",
       "      <th>month</th>\n",
       "      <th>time_period</th>\n",
       "      <th>demand</th>\n",
       "      <th>air_temp</th>\n",
       "      <th>air_temp_feel</th>\n",
       "      <th>rain</th>\n",
       "      <th>snow</th>\n",
       "      <th>...</th>\n",
       "      <th>education</th>\n",
       "      <th>recreational</th>\n",
       "      <th>commercial</th>\n",
       "      <th>health</th>\n",
       "      <th>subway_stations</th>\n",
       "      <th>bus_stops</th>\n",
       "      <th>avg_demand_five</th>\n",
       "      <th>historical_average</th>\n",
       "      <th>timestamp</th>\n",
       "      <th>demand_ref</th>\n",
       "    </tr>\n",
       "  </thead>\n",
       "  <tbody>\n",
       "    <tr>\n",
       "      <th>0</th>\n",
       "      <td>4</td>\n",
       "      <td>0</td>\n",
       "      <td>3</td>\n",
       "      <td>6</td>\n",
       "      <td>off_peak</td>\n",
       "      <td>7.0</td>\n",
       "      <td>73.18</td>\n",
       "      <td>73.31</td>\n",
       "      <td>0.0</td>\n",
       "      <td>0.0</td>\n",
       "      <td>...</td>\n",
       "      <td>11</td>\n",
       "      <td>30</td>\n",
       "      <td>0</td>\n",
       "      <td>1</td>\n",
       "      <td>0.0</td>\n",
       "      <td>11.0</td>\n",
       "      <td>NaN</td>\n",
       "      <td>6.052632</td>\n",
       "      <td>54432</td>\n",
       "      <td>NaN</td>\n",
       "    </tr>\n",
       "    <tr>\n",
       "      <th>1</th>\n",
       "      <td>4</td>\n",
       "      <td>1</td>\n",
       "      <td>3</td>\n",
       "      <td>6</td>\n",
       "      <td>off_peak</td>\n",
       "      <td>5.0</td>\n",
       "      <td>73.18</td>\n",
       "      <td>73.31</td>\n",
       "      <td>0.0</td>\n",
       "      <td>0.0</td>\n",
       "      <td>...</td>\n",
       "      <td>11</td>\n",
       "      <td>30</td>\n",
       "      <td>0</td>\n",
       "      <td>1</td>\n",
       "      <td>0.0</td>\n",
       "      <td>11.0</td>\n",
       "      <td>NaN</td>\n",
       "      <td>4.315789</td>\n",
       "      <td>54433</td>\n",
       "      <td>NaN</td>\n",
       "    </tr>\n",
       "    <tr>\n",
       "      <th>2</th>\n",
       "      <td>4</td>\n",
       "      <td>2</td>\n",
       "      <td>3</td>\n",
       "      <td>6</td>\n",
       "      <td>off_peak</td>\n",
       "      <td>1.0</td>\n",
       "      <td>73.18</td>\n",
       "      <td>73.31</td>\n",
       "      <td>0.0</td>\n",
       "      <td>0.0</td>\n",
       "      <td>...</td>\n",
       "      <td>11</td>\n",
       "      <td>30</td>\n",
       "      <td>0</td>\n",
       "      <td>1</td>\n",
       "      <td>0.0</td>\n",
       "      <td>11.0</td>\n",
       "      <td>NaN</td>\n",
       "      <td>4.473684</td>\n",
       "      <td>54434</td>\n",
       "      <td>NaN</td>\n",
       "    </tr>\n",
       "    <tr>\n",
       "      <th>3</th>\n",
       "      <td>4</td>\n",
       "      <td>3</td>\n",
       "      <td>3</td>\n",
       "      <td>6</td>\n",
       "      <td>off_peak</td>\n",
       "      <td>3.0</td>\n",
       "      <td>73.18</td>\n",
       "      <td>73.31</td>\n",
       "      <td>0.0</td>\n",
       "      <td>0.0</td>\n",
       "      <td>...</td>\n",
       "      <td>11</td>\n",
       "      <td>30</td>\n",
       "      <td>0</td>\n",
       "      <td>1</td>\n",
       "      <td>0.0</td>\n",
       "      <td>11.0</td>\n",
       "      <td>NaN</td>\n",
       "      <td>3.631579</td>\n",
       "      <td>54435</td>\n",
       "      <td>NaN</td>\n",
       "    </tr>\n",
       "    <tr>\n",
       "      <th>4</th>\n",
       "      <td>4</td>\n",
       "      <td>4</td>\n",
       "      <td>3</td>\n",
       "      <td>6</td>\n",
       "      <td>off_peak</td>\n",
       "      <td>1.0</td>\n",
       "      <td>73.18</td>\n",
       "      <td>73.31</td>\n",
       "      <td>0.0</td>\n",
       "      <td>0.0</td>\n",
       "      <td>...</td>\n",
       "      <td>11</td>\n",
       "      <td>30</td>\n",
       "      <td>0</td>\n",
       "      <td>1</td>\n",
       "      <td>0.0</td>\n",
       "      <td>11.0</td>\n",
       "      <td>3.4</td>\n",
       "      <td>4.631579</td>\n",
       "      <td>54436</td>\n",
       "      <td>NaN</td>\n",
       "    </tr>\n",
       "  </tbody>\n",
       "</table>\n",
       "<p>5 rows × 21 columns</p>\n",
       "</div>"
      ],
      "text/plain": [
       "   zone  bin  day  month time_period  demand  air_temp  air_temp_feel  rain  \\\n",
       "0     4    0    3      6    off_peak     7.0     73.18          73.31   0.0   \n",
       "1     4    1    3      6    off_peak     5.0     73.18          73.31   0.0   \n",
       "2     4    2    3      6    off_peak     1.0     73.18          73.31   0.0   \n",
       "3     4    3    3      6    off_peak     3.0     73.18          73.31   0.0   \n",
       "4     4    4    3      6    off_peak     1.0     73.18          73.31   0.0   \n",
       "\n",
       "   snow  ...  education  recreational  commercial  health  subway_stations  \\\n",
       "0   0.0  ...         11            30           0       1              0.0   \n",
       "1   0.0  ...         11            30           0       1              0.0   \n",
       "2   0.0  ...         11            30           0       1              0.0   \n",
       "3   0.0  ...         11            30           0       1              0.0   \n",
       "4   0.0  ...         11            30           0       1              0.0   \n",
       "\n",
       "   bus_stops  avg_demand_five  historical_average  timestamp  demand_ref  \n",
       "0       11.0              NaN            6.052632      54432         NaN  \n",
       "1       11.0              NaN            4.315789      54433         NaN  \n",
       "2       11.0              NaN            4.473684      54434         NaN  \n",
       "3       11.0              NaN            3.631579      54435         NaN  \n",
       "4       11.0              3.4            4.631579      54436         NaN  \n",
       "\n",
       "[5 rows x 21 columns]"
      ]
     },
     "execution_count": 32,
     "metadata": {},
     "output_type": "execute_result"
    }
   ],
   "source": [
    "df_temp = pd.concat(res)\n",
    "df_temp.head()"
   ]
  },
  {
   "cell_type": "code",
   "execution_count": 33,
   "metadata": {},
   "outputs": [
    {
     "name": "stderr",
     "output_type": "stream",
     "text": [
      "C:\\Users\\11481\\AppData\\Local\\Temp\\ipykernel_13200\\549742825.py:2: SettingWithCopyWarning: \n",
      "A value is trying to be set on a copy of a slice from a DataFrame.\n",
      "Try using .loc[row_indexer,col_indexer] = value instead\n",
      "\n",
      "See the caveats in the documentation: https://pandas.pydata.org/pandas-docs/stable/user_guide/indexing.html#returning-a-view-versus-a-copy\n",
      "  df['demand_diff'] = df['demand'] - df['demand_ref']\n"
     ]
    }
   ],
   "source": [
    "df = df_temp.dropna()\n",
    "df['demand_diff'] = df['demand'] - df['demand_ref']"
   ]
  },
  {
   "cell_type": "code",
   "execution_count": 40,
   "metadata": {},
   "outputs": [
    {
     "name": "stderr",
     "output_type": "stream",
     "text": [
      "C:\\Users\\11481\\AppData\\Local\\Temp\\ipykernel_13200\\1108352270.py:1: SettingWithCopyWarning: \n",
      "A value is trying to be set on a copy of a slice from a DataFrame\n",
      "\n",
      "See the caveats in the documentation: https://pandas.pydata.org/pandas-docs/stable/user_guide/indexing.html#returning-a-view-versus-a-copy\n",
      "  df.drop(['demand'],axis=1,inplace=True)\n",
      "C:\\Users\\11481\\AppData\\Local\\Temp\\ipykernel_13200\\1108352270.py:2: SettingWithCopyWarning: \n",
      "A value is trying to be set on a copy of a slice from a DataFrame\n",
      "\n",
      "See the caveats in the documentation: https://pandas.pydata.org/pandas-docs/stable/user_guide/indexing.html#returning-a-view-versus-a-copy\n",
      "  df.rename(columns={'demand_diff':'demand'},inplace=True)\n"
     ]
    }
   ],
   "source": [
    "df.drop(['demand'],axis=1,inplace=True)\n",
    "df.rename(columns={'demand_diff':'demand'},inplace=True)"
   ]
  },
  {
   "attachments": {},
   "cell_type": "markdown",
   "metadata": {},
   "source": [
    "### Demand"
   ]
  },
  {
   "cell_type": "code",
   "execution_count": 41,
   "metadata": {},
   "outputs": [
    {
     "data": {
      "text/html": [
       "<div>\n",
       "<style scoped>\n",
       "    .dataframe tbody tr th:only-of-type {\n",
       "        vertical-align: middle;\n",
       "    }\n",
       "\n",
       "    .dataframe tbody tr th {\n",
       "        vertical-align: top;\n",
       "    }\n",
       "\n",
       "    .dataframe thead th {\n",
       "        text-align: right;\n",
       "    }\n",
       "</style>\n",
       "<table border=\"1\" class=\"dataframe\">\n",
       "  <thead>\n",
       "    <tr style=\"text-align: right;\">\n",
       "      <th></th>\n",
       "      <th>zone</th>\n",
       "      <th>month</th>\n",
       "      <th>day</th>\n",
       "      <th>bin</th>\n",
       "      <th>demand</th>\n",
       "      <th>timestamp</th>\n",
       "    </tr>\n",
       "  </thead>\n",
       "  <tbody>\n",
       "    <tr>\n",
       "      <th>1440</th>\n",
       "      <td>4</td>\n",
       "      <td>6</td>\n",
       "      <td>10</td>\n",
       "      <td>0</td>\n",
       "      <td>0.0</td>\n",
       "      <td>56448</td>\n",
       "    </tr>\n",
       "    <tr>\n",
       "      <th>7200</th>\n",
       "      <td>12</td>\n",
       "      <td>6</td>\n",
       "      <td>10</td>\n",
       "      <td>0</td>\n",
       "      <td>0.0</td>\n",
       "      <td>56448</td>\n",
       "    </tr>\n",
       "    <tr>\n",
       "      <th>12960</th>\n",
       "      <td>13</td>\n",
       "      <td>6</td>\n",
       "      <td>10</td>\n",
       "      <td>0</td>\n",
       "      <td>1.0</td>\n",
       "      <td>56448</td>\n",
       "    </tr>\n",
       "    <tr>\n",
       "      <th>18720</th>\n",
       "      <td>24</td>\n",
       "      <td>6</td>\n",
       "      <td>10</td>\n",
       "      <td>0</td>\n",
       "      <td>-2.0</td>\n",
       "      <td>56448</td>\n",
       "    </tr>\n",
       "    <tr>\n",
       "      <th>24480</th>\n",
       "      <td>41</td>\n",
       "      <td>6</td>\n",
       "      <td>10</td>\n",
       "      <td>0</td>\n",
       "      <td>1.0</td>\n",
       "      <td>56448</td>\n",
       "    </tr>\n",
       "    <tr>\n",
       "      <th>30240</th>\n",
       "      <td>42</td>\n",
       "      <td>6</td>\n",
       "      <td>10</td>\n",
       "      <td>0</td>\n",
       "      <td>12.0</td>\n",
       "      <td>56448</td>\n",
       "    </tr>\n",
       "    <tr>\n",
       "      <th>36000</th>\n",
       "      <td>43</td>\n",
       "      <td>6</td>\n",
       "      <td>10</td>\n",
       "      <td>0</td>\n",
       "      <td>-2.0</td>\n",
       "      <td>56448</td>\n",
       "    </tr>\n",
       "    <tr>\n",
       "      <th>41760</th>\n",
       "      <td>45</td>\n",
       "      <td>6</td>\n",
       "      <td>10</td>\n",
       "      <td>0</td>\n",
       "      <td>-1.0</td>\n",
       "      <td>56448</td>\n",
       "    </tr>\n",
       "    <tr>\n",
       "      <th>47520</th>\n",
       "      <td>48</td>\n",
       "      <td>6</td>\n",
       "      <td>10</td>\n",
       "      <td>0</td>\n",
       "      <td>-3.0</td>\n",
       "      <td>56448</td>\n",
       "    </tr>\n",
       "    <tr>\n",
       "      <th>53280</th>\n",
       "      <td>50</td>\n",
       "      <td>6</td>\n",
       "      <td>10</td>\n",
       "      <td>0</td>\n",
       "      <td>-4.0</td>\n",
       "      <td>56448</td>\n",
       "    </tr>\n",
       "  </tbody>\n",
       "</table>\n",
       "</div>"
      ],
      "text/plain": [
       "       zone  month  day  bin  demand  timestamp\n",
       "1440      4      6   10    0     0.0      56448\n",
       "7200     12      6   10    0     0.0      56448\n",
       "12960    13      6   10    0     1.0      56448\n",
       "18720    24      6   10    0    -2.0      56448\n",
       "24480    41      6   10    0     1.0      56448\n",
       "30240    42      6   10    0    12.0      56448\n",
       "36000    43      6   10    0    -2.0      56448\n",
       "41760    45      6   10    0    -1.0      56448\n",
       "47520    48      6   10    0    -3.0      56448\n",
       "53280    50      6   10    0    -4.0      56448"
      ]
     },
     "execution_count": 41,
     "metadata": {},
     "output_type": "execute_result"
    }
   ],
   "source": [
    "df_demand = df[['zone','month','day','bin','demand','timestamp']]\n",
    "df_demand = df_demand.sort_values(by=['month','day','bin','zone'])\n",
    "df_demand.head(10)"
   ]
  },
  {
   "cell_type": "code",
   "execution_count": 42,
   "metadata": {},
   "outputs": [],
   "source": [
    "def combine(df_demand,df,x,y,timestamp,included,lookback=2):\n",
    "    df = df.sort_values('zone')\n",
    "    time = df['timestamp'].values[0]\n",
    "    if (time-lookback) in included:\n",
    "        timestamp.append(time)\n",
    "\n",
    "        feature_time = [time-i for i in reversed(range(1,lookback+1))]\n",
    "        pre_demand = df_demand.loc[(df_demand['timestamp'].isin(feature_time))]\n",
    "\n",
    "        features = pre_demand.groupby(['zone'])['demand'].agg(lambda x:x.tolist()).to_list()\n",
    "        labels = df['demand'].to_list()\n",
    "        \n",
    "        x.append(features)\n",
    "        y.append(labels)"
   ]
  },
  {
   "cell_type": "code",
   "execution_count": 43,
   "metadata": {},
   "outputs": [],
   "source": [
    "included = df_demand['timestamp'].unique()\n",
    "timestamp = []\n",
    "x = []\n",
    "y = []\n",
    "_ = df_demand.groupby('timestamp').apply(lambda df:combine(df_demand,df,x,y,timestamp,included))"
   ]
  },
  {
   "cell_type": "code",
   "execution_count": 44,
   "metadata": {},
   "outputs": [],
   "source": [
    "x_new = []\n",
    "y_new = []\n",
    "timestamp_new = []\n",
    "for i, time in enumerate(timestamp):\n",
    "    temp_x = []\n",
    "    if (time-2) in timestamp:\n",
    "        temp_x.append(x[i-2])\n",
    "        temp_x.append(x[i-1])\n",
    "        x_new.append(temp_x)\n",
    "        y_new.append(y[i])\n",
    "        timestamp_new.append(time)"
   ]
  },
  {
   "cell_type": "code",
   "execution_count": 45,
   "metadata": {},
   "outputs": [
    {
     "data": {
      "text/plain": [
       "4308"
      ]
     },
     "execution_count": 45,
     "metadata": {},
     "output_type": "execute_result"
    }
   ],
   "source": [
    "len(x_new)"
   ]
  },
  {
   "cell_type": "code",
   "execution_count": 46,
   "metadata": {},
   "outputs": [
    {
     "data": {
      "text/plain": [
       "4308"
      ]
     },
     "execution_count": 46,
     "metadata": {},
     "output_type": "execute_result"
    }
   ],
   "source": [
    "len(y_new)"
   ]
  },
  {
   "cell_type": "code",
   "execution_count": 47,
   "metadata": {},
   "outputs": [],
   "source": [
    "x = np.array(x_new)\n",
    "y = np.array(y_new)"
   ]
  },
  {
   "cell_type": "code",
   "execution_count": 48,
   "metadata": {},
   "outputs": [
    {
     "data": {
      "text/plain": [
       "4308"
      ]
     },
     "execution_count": 48,
     "metadata": {},
     "output_type": "execute_result"
    }
   ],
   "source": [
    "len(timestamp_new)"
   ]
  },
  {
   "cell_type": "code",
   "execution_count": 49,
   "metadata": {},
   "outputs": [
    {
     "data": {
      "text/plain": [
       "(4308, 2, 63, 2)"
      ]
     },
     "execution_count": 49,
     "metadata": {},
     "output_type": "execute_result"
    }
   ],
   "source": [
    "x.shape"
   ]
  },
  {
   "cell_type": "code",
   "execution_count": 50,
   "metadata": {},
   "outputs": [],
   "source": [
    "np.save('data/processed/0620x_diff.npy',x)\n",
    "np.save('data/processed/0620y_diff.npy',y)"
   ]
  },
  {
   "attachments": {},
   "cell_type": "markdown",
   "metadata": {},
   "source": [
    "### Adjancent matrix"
   ]
  },
  {
   "cell_type": "code",
   "execution_count": 51,
   "metadata": {},
   "outputs": [],
   "source": [
    "zipfile = 'data/taxi_zones.shp'\n",
    "zones = gpd.read_file(zipfile)\n",
    "zones = zones.sort_values(['LocationID']).reset_index(drop=True)"
   ]
  },
  {
   "cell_type": "code",
   "execution_count": 52,
   "metadata": {},
   "outputs": [
    {
     "data": {
      "text/html": [
       "<div>\n",
       "<style scoped>\n",
       "    .dataframe tbody tr th:only-of-type {\n",
       "        vertical-align: middle;\n",
       "    }\n",
       "\n",
       "    .dataframe tbody tr th {\n",
       "        vertical-align: top;\n",
       "    }\n",
       "\n",
       "    .dataframe thead th {\n",
       "        text-align: right;\n",
       "    }\n",
       "</style>\n",
       "<table border=\"1\" class=\"dataframe\">\n",
       "  <thead>\n",
       "    <tr style=\"text-align: right;\">\n",
       "      <th></th>\n",
       "      <th>OBJECTID</th>\n",
       "      <th>Shape_Leng</th>\n",
       "      <th>Shape_Area</th>\n",
       "      <th>zone</th>\n",
       "      <th>LocationID</th>\n",
       "      <th>borough</th>\n",
       "      <th>geometry</th>\n",
       "    </tr>\n",
       "  </thead>\n",
       "  <tbody>\n",
       "    <tr>\n",
       "      <th>3</th>\n",
       "      <td>4</td>\n",
       "      <td>0.043567</td>\n",
       "      <td>0.000112</td>\n",
       "      <td>Alphabet City</td>\n",
       "      <td>4</td>\n",
       "      <td>Manhattan</td>\n",
       "      <td>POLYGON ((992073.467 203714.076, 992068.667 20...</td>\n",
       "    </tr>\n",
       "    <tr>\n",
       "      <th>11</th>\n",
       "      <td>12</td>\n",
       "      <td>0.036661</td>\n",
       "      <td>0.000042</td>\n",
       "      <td>Battery Park</td>\n",
       "      <td>12</td>\n",
       "      <td>Manhattan</td>\n",
       "      <td>POLYGON ((979908.772 196066.565, 979980.852 19...</td>\n",
       "    </tr>\n",
       "    <tr>\n",
       "      <th>12</th>\n",
       "      <td>13</td>\n",
       "      <td>0.050281</td>\n",
       "      <td>0.000149</td>\n",
       "      <td>Battery Park City</td>\n",
       "      <td>13</td>\n",
       "      <td>Manhattan</td>\n",
       "      <td>POLYGON ((980801.310 201248.869, 980697.386 20...</td>\n",
       "    </tr>\n",
       "    <tr>\n",
       "      <th>23</th>\n",
       "      <td>24</td>\n",
       "      <td>0.047000</td>\n",
       "      <td>0.000061</td>\n",
       "      <td>Bloomingdale</td>\n",
       "      <td>24</td>\n",
       "      <td>Manhattan</td>\n",
       "      <td>POLYGON ((995453.114 230274.267, 995312.583 23...</td>\n",
       "    </tr>\n",
       "    <tr>\n",
       "      <th>40</th>\n",
       "      <td>41</td>\n",
       "      <td>0.052793</td>\n",
       "      <td>0.000143</td>\n",
       "      <td>Central Harlem</td>\n",
       "      <td>41</td>\n",
       "      <td>Manhattan</td>\n",
       "      <td>POLYGON ((998716.913 234240.397, 999458.736 23...</td>\n",
       "    </tr>\n",
       "    <tr>\n",
       "      <th>41</th>\n",
       "      <td>42</td>\n",
       "      <td>0.092709</td>\n",
       "      <td>0.000264</td>\n",
       "      <td>Central Harlem North</td>\n",
       "      <td>42</td>\n",
       "      <td>Manhattan</td>\n",
       "      <td>POLYGON ((1002413.191 243934.560, 1002388.021 ...</td>\n",
       "    </tr>\n",
       "    <tr>\n",
       "      <th>42</th>\n",
       "      <td>43</td>\n",
       "      <td>0.099739</td>\n",
       "      <td>0.000380</td>\n",
       "      <td>Central Park</td>\n",
       "      <td>43</td>\n",
       "      <td>Manhattan</td>\n",
       "      <td>POLYGON ((991852.973 217950.807, 991725.244 21...</td>\n",
       "    </tr>\n",
       "    <tr>\n",
       "      <th>44</th>\n",
       "      <td>45</td>\n",
       "      <td>0.045907</td>\n",
       "      <td>0.000091</td>\n",
       "      <td>Chinatown</td>\n",
       "      <td>45</td>\n",
       "      <td>Manhattan</td>\n",
       "      <td>POLYGON ((984941.821 199431.157, 984958.446 19...</td>\n",
       "    </tr>\n",
       "    <tr>\n",
       "      <th>47</th>\n",
       "      <td>48</td>\n",
       "      <td>0.043747</td>\n",
       "      <td>0.000094</td>\n",
       "      <td>Clinton East</td>\n",
       "      <td>48</td>\n",
       "      <td>Manhattan</td>\n",
       "      <td>POLYGON ((986694.313 214463.846, 986568.184 21...</td>\n",
       "    </tr>\n",
       "    <tr>\n",
       "      <th>49</th>\n",
       "      <td>50</td>\n",
       "      <td>0.055748</td>\n",
       "      <td>0.000173</td>\n",
       "      <td>Clinton West</td>\n",
       "      <td>50</td>\n",
       "      <td>Manhattan</td>\n",
       "      <td>POLYGON ((985170.372 221087.389, 985817.170 22...</td>\n",
       "    </tr>\n",
       "  </tbody>\n",
       "</table>\n",
       "</div>"
      ],
      "text/plain": [
       "    OBJECTID  Shape_Leng  Shape_Area                  zone  LocationID  \\\n",
       "3          4    0.043567    0.000112         Alphabet City           4   \n",
       "11        12    0.036661    0.000042          Battery Park          12   \n",
       "12        13    0.050281    0.000149     Battery Park City          13   \n",
       "23        24    0.047000    0.000061          Bloomingdale          24   \n",
       "40        41    0.052793    0.000143        Central Harlem          41   \n",
       "41        42    0.092709    0.000264  Central Harlem North          42   \n",
       "42        43    0.099739    0.000380          Central Park          43   \n",
       "44        45    0.045907    0.000091             Chinatown          45   \n",
       "47        48    0.043747    0.000094          Clinton East          48   \n",
       "49        50    0.055748    0.000173          Clinton West          50   \n",
       "\n",
       "      borough                                           geometry  \n",
       "3   Manhattan  POLYGON ((992073.467 203714.076, 992068.667 20...  \n",
       "11  Manhattan  POLYGON ((979908.772 196066.565, 979980.852 19...  \n",
       "12  Manhattan  POLYGON ((980801.310 201248.869, 980697.386 20...  \n",
       "23  Manhattan  POLYGON ((995453.114 230274.267, 995312.583 23...  \n",
       "40  Manhattan  POLYGON ((998716.913 234240.397, 999458.736 23...  \n",
       "41  Manhattan  POLYGON ((1002413.191 243934.560, 1002388.021 ...  \n",
       "42  Manhattan  POLYGON ((991852.973 217950.807, 991725.244 21...  \n",
       "44  Manhattan  POLYGON ((984941.821 199431.157, 984958.446 19...  \n",
       "47  Manhattan  POLYGON ((986694.313 214463.846, 986568.184 21...  \n",
       "49  Manhattan  POLYGON ((985170.372 221087.389, 985817.170 22...  "
      ]
     },
     "execution_count": 52,
     "metadata": {},
     "output_type": "execute_result"
    }
   ],
   "source": [
    "Manhattan = zones[zones['LocationID'].isin(zone_id)]\n",
    "Manhattan.head(10)"
   ]
  },
  {
   "cell_type": "code",
   "execution_count": 13,
   "metadata": {},
   "outputs": [],
   "source": [
    "zones_centroid = Manhattan['geometry'].centroid\n",
    "zones_polygon = Manhattan['geometry']"
   ]
  },
  {
   "attachments": {},
   "cell_type": "markdown",
   "metadata": {},
   "source": [
    "#### Eculiden"
   ]
  },
  {
   "cell_type": "code",
   "execution_count": 14,
   "metadata": {},
   "outputs": [],
   "source": [
    "euc_dist = zones_centroid.apply(lambda x:zones_centroid.distance(x)).to_numpy().flatten()"
   ]
  },
  {
   "cell_type": "code",
   "execution_count": 16,
   "metadata": {},
   "outputs": [],
   "source": [
    "census_adj = pd.DataFrame(np.array([np.repeat(Manhattan['LocationID'].to_numpy(), len(Manhattan)),\n",
    "                                    np.tile(Manhattan['LocationID'].to_numpy(), len(Manhattan)),\n",
    "                                    euc_dist]).T, columns=['start_id','end_id','euc'])"
   ]
  },
  {
   "cell_type": "code",
   "execution_count": 19,
   "metadata": {},
   "outputs": [
    {
     "data": {
      "text/html": [
       "<div>\n",
       "<style scoped>\n",
       "    .dataframe tbody tr th:only-of-type {\n",
       "        vertical-align: middle;\n",
       "    }\n",
       "\n",
       "    .dataframe tbody tr th {\n",
       "        vertical-align: top;\n",
       "    }\n",
       "\n",
       "    .dataframe thead th {\n",
       "        text-align: right;\n",
       "    }\n",
       "</style>\n",
       "<table border=\"1\" class=\"dataframe\">\n",
       "  <thead>\n",
       "    <tr style=\"text-align: right;\">\n",
       "      <th></th>\n",
       "      <th>start_id</th>\n",
       "      <th>end_id</th>\n",
       "      <th>euc</th>\n",
       "    </tr>\n",
       "  </thead>\n",
       "  <tbody>\n",
       "    <tr>\n",
       "      <th>0</th>\n",
       "      <td>4</td>\n",
       "      <td>4</td>\n",
       "      <td>0.000000</td>\n",
       "    </tr>\n",
       "    <tr>\n",
       "      <th>1</th>\n",
       "      <td>4</td>\n",
       "      <td>12</td>\n",
       "      <td>13112.689481</td>\n",
       "    </tr>\n",
       "    <tr>\n",
       "      <th>2</th>\n",
       "      <td>4</td>\n",
       "      <td>13</td>\n",
       "      <td>11651.582885</td>\n",
       "    </tr>\n",
       "    <tr>\n",
       "      <th>3</th>\n",
       "      <td>4</td>\n",
       "      <td>24</td>\n",
       "      <td>28674.720866</td>\n",
       "    </tr>\n",
       "    <tr>\n",
       "      <th>4</th>\n",
       "      <td>4</td>\n",
       "      <td>41</td>\n",
       "      <td>30207.906231</td>\n",
       "    </tr>\n",
       "  </tbody>\n",
       "</table>\n",
       "</div>"
      ],
      "text/plain": [
       "   start_id  end_id           euc\n",
       "0         4       4      0.000000\n",
       "1         4      12  13112.689481\n",
       "2         4      13  11651.582885\n",
       "3         4      24  28674.720866\n",
       "4         4      41  30207.906231"
      ]
     },
     "execution_count": 19,
     "metadata": {},
     "output_type": "execute_result"
    }
   ],
   "source": [
    "census_adj['start_id'] = census_adj['start_id'].astype(int)\n",
    "census_adj['end_id'] = census_adj['end_id'].astype(int)"
   ]
  },
  {
   "attachments": {},
   "cell_type": "markdown",
   "metadata": {},
   "source": [
    "### Connectivity"
   ]
  },
  {
   "cell_type": "code",
   "execution_count": 20,
   "metadata": {},
   "outputs": [],
   "source": [
    "touch = zones_polygon.apply(lambda x: zones_polygon.touches(x)).to_numpy(dtype=np.float32).flatten()"
   ]
  },
  {
   "cell_type": "code",
   "execution_count": 21,
   "metadata": {},
   "outputs": [],
   "source": [
    "census_adj['con'] = touch"
   ]
  },
  {
   "cell_type": "code",
   "execution_count": 22,
   "metadata": {},
   "outputs": [
    {
     "data": {
      "text/html": [
       "<div>\n",
       "<style scoped>\n",
       "    .dataframe tbody tr th:only-of-type {\n",
       "        vertical-align: middle;\n",
       "    }\n",
       "\n",
       "    .dataframe tbody tr th {\n",
       "        vertical-align: top;\n",
       "    }\n",
       "\n",
       "    .dataframe thead th {\n",
       "        text-align: right;\n",
       "    }\n",
       "</style>\n",
       "<table border=\"1\" class=\"dataframe\">\n",
       "  <thead>\n",
       "    <tr style=\"text-align: right;\">\n",
       "      <th></th>\n",
       "      <th>start_id</th>\n",
       "      <th>end_id</th>\n",
       "      <th>euc</th>\n",
       "      <th>con</th>\n",
       "    </tr>\n",
       "  </thead>\n",
       "  <tbody>\n",
       "    <tr>\n",
       "      <th>0</th>\n",
       "      <td>4</td>\n",
       "      <td>4</td>\n",
       "      <td>0.000000</td>\n",
       "      <td>0.0</td>\n",
       "    </tr>\n",
       "    <tr>\n",
       "      <th>1</th>\n",
       "      <td>4</td>\n",
       "      <td>12</td>\n",
       "      <td>13112.689481</td>\n",
       "      <td>0.0</td>\n",
       "    </tr>\n",
       "    <tr>\n",
       "      <th>2</th>\n",
       "      <td>4</td>\n",
       "      <td>13</td>\n",
       "      <td>11651.582885</td>\n",
       "      <td>0.0</td>\n",
       "    </tr>\n",
       "    <tr>\n",
       "      <th>3</th>\n",
       "      <td>4</td>\n",
       "      <td>24</td>\n",
       "      <td>28674.720866</td>\n",
       "      <td>0.0</td>\n",
       "    </tr>\n",
       "    <tr>\n",
       "      <th>4</th>\n",
       "      <td>4</td>\n",
       "      <td>41</td>\n",
       "      <td>30207.906231</td>\n",
       "      <td>0.0</td>\n",
       "    </tr>\n",
       "  </tbody>\n",
       "</table>\n",
       "</div>"
      ],
      "text/plain": [
       "   start_id  end_id           euc  con\n",
       "0         4       4      0.000000  0.0\n",
       "1         4      12  13112.689481  0.0\n",
       "2         4      13  11651.582885  0.0\n",
       "3         4      24  28674.720866  0.0\n",
       "4         4      41  30207.906231  0.0"
      ]
     },
     "execution_count": 22,
     "metadata": {},
     "output_type": "execute_result"
    }
   ],
   "source": [
    "census_adj.head()"
   ]
  },
  {
   "attachments": {},
   "cell_type": "markdown",
   "metadata": {},
   "source": [
    "### Functionality"
   ]
  },
  {
   "cell_type": "code",
   "execution_count": 52,
   "metadata": {},
   "outputs": [
    {
     "name": "stderr",
     "output_type": "stream",
     "text": [
      "C:\\Users\\11481\\AppData\\Local\\Temp\\ipykernel_6552\\4293389756.py:4: SettingWithCopyWarning: \n",
      "A value is trying to be set on a copy of a slice from a DataFrame.\n",
      "Try using .loc[row_indexer,col_indexer] = value instead\n",
      "\n",
      "See the caveats in the documentation: https://pandas.pydata.org/pandas-docs/stable/user_guide/indexing.html#returning-a-view-versus-a-copy\n",
      "  s.loc[:,i] = s[i]/s[i].max()\n"
     ]
    }
   ],
   "source": [
    "spatial = df[['zone','residential','education','recreational','commercial','health']].drop_duplicates()\n",
    "s = spatial[['residential','education','recreational','commercial','health']]\n",
    "for i in s.columns:\n",
    "    s.loc[:,i] = s[i]/s[i].max()"
   ]
  },
  {
   "cell_type": "code",
   "execution_count": 53,
   "metadata": {},
   "outputs": [
    {
     "name": "stderr",
     "output_type": "stream",
     "text": [
      "C:\\Users\\11481\\AppData\\Local\\Temp\\ipykernel_6552\\1964729647.py:5: RuntimeWarning: divide by zero encountered in divide\n",
      "  s4 = s3[(s3 > 0)].min()/s3\n"
     ]
    }
   ],
   "source": [
    "n = len(s)\n",
    "s1 = np.transpose(np.tile(s, (n,1,1)),(1,0,2))\n",
    "s2 = np.tile(s, (n,1,1))\n",
    "s3 = np.sum(np.sqrt((s1-s2)*(s1-s2)), axis=2)\n",
    "s4 = s3[(s3 > 0)].min()/s3\n",
    "s4 = s4.flatten()\n",
    "s4[~np.isfinite(s4)] = 0"
   ]
  },
  {
   "cell_type": "code",
   "execution_count": 58,
   "metadata": {},
   "outputs": [],
   "source": [
    "func_adj = pd.DataFrame(np.array([np.repeat(spatial['zone'].to_numpy(), n), \n",
    "                       np.tile(spatial['zone'].to_numpy(), n),\n",
    "                       s4]).T, columns=['start_id','end_id','func'])\n"
   ]
  },
  {
   "cell_type": "code",
   "execution_count": 59,
   "metadata": {},
   "outputs": [],
   "source": [
    "census_adj = pd.merge(census_adj, func_adj, on=['start_id', 'end_id'], how='left').fillna(0)"
   ]
  },
  {
   "cell_type": "code",
   "execution_count": 60,
   "metadata": {},
   "outputs": [
    {
     "data": {
      "text/html": [
       "<div>\n",
       "<style scoped>\n",
       "    .dataframe tbody tr th:only-of-type {\n",
       "        vertical-align: middle;\n",
       "    }\n",
       "\n",
       "    .dataframe tbody tr th {\n",
       "        vertical-align: top;\n",
       "    }\n",
       "\n",
       "    .dataframe thead th {\n",
       "        text-align: right;\n",
       "    }\n",
       "</style>\n",
       "<table border=\"1\" class=\"dataframe\">\n",
       "  <thead>\n",
       "    <tr style=\"text-align: right;\">\n",
       "      <th></th>\n",
       "      <th>start_id</th>\n",
       "      <th>end_id</th>\n",
       "      <th>euc</th>\n",
       "      <th>con</th>\n",
       "      <th>func</th>\n",
       "    </tr>\n",
       "  </thead>\n",
       "  <tbody>\n",
       "    <tr>\n",
       "      <th>0</th>\n",
       "      <td>4</td>\n",
       "      <td>4</td>\n",
       "      <td>0.000000</td>\n",
       "      <td>0.0</td>\n",
       "      <td>0.000000</td>\n",
       "    </tr>\n",
       "    <tr>\n",
       "      <th>1</th>\n",
       "      <td>4</td>\n",
       "      <td>12</td>\n",
       "      <td>13112.689481</td>\n",
       "      <td>0.0</td>\n",
       "      <td>0.042759</td>\n",
       "    </tr>\n",
       "    <tr>\n",
       "      <th>2</th>\n",
       "      <td>4</td>\n",
       "      <td>13</td>\n",
       "      <td>11651.582885</td>\n",
       "      <td>0.0</td>\n",
       "      <td>0.037645</td>\n",
       "    </tr>\n",
       "    <tr>\n",
       "      <th>3</th>\n",
       "      <td>4</td>\n",
       "      <td>24</td>\n",
       "      <td>28674.720866</td>\n",
       "      <td>0.0</td>\n",
       "      <td>0.046002</td>\n",
       "    </tr>\n",
       "    <tr>\n",
       "      <th>4</th>\n",
       "      <td>4</td>\n",
       "      <td>41</td>\n",
       "      <td>30207.906231</td>\n",
       "      <td>0.0</td>\n",
       "      <td>0.046256</td>\n",
       "    </tr>\n",
       "  </tbody>\n",
       "</table>\n",
       "</div>"
      ],
      "text/plain": [
       "   start_id  end_id           euc  con      func\n",
       "0         4       4      0.000000  0.0  0.000000\n",
       "1         4      12  13112.689481  0.0  0.042759\n",
       "2         4      13  11651.582885  0.0  0.037645\n",
       "3         4      24  28674.720866  0.0  0.046002\n",
       "4         4      41  30207.906231  0.0  0.046256"
      ]
     },
     "execution_count": 60,
     "metadata": {},
     "output_type": "execute_result"
    }
   ],
   "source": [
    "census_adj.head()"
   ]
  },
  {
   "cell_type": "code",
   "execution_count": 61,
   "metadata": {},
   "outputs": [],
   "source": [
    "census_adj.to_csv('data/processed/adjlist.csv',index=False)"
   ]
  },
  {
   "attachments": {},
   "cell_type": "markdown",
   "metadata": {},
   "source": [
    "### History"
   ]
  },
  {
   "cell_type": "code",
   "execution_count": 53,
   "metadata": {},
   "outputs": [
    {
     "data": {
      "text/html": [
       "<div>\n",
       "<style scoped>\n",
       "    .dataframe tbody tr th:only-of-type {\n",
       "        vertical-align: middle;\n",
       "    }\n",
       "\n",
       "    .dataframe tbody tr th {\n",
       "        vertical-align: top;\n",
       "    }\n",
       "\n",
       "    .dataframe thead th {\n",
       "        text-align: right;\n",
       "    }\n",
       "</style>\n",
       "<table border=\"1\" class=\"dataframe\">\n",
       "  <thead>\n",
       "    <tr style=\"text-align: right;\">\n",
       "      <th></th>\n",
       "      <th>zone</th>\n",
       "      <th>month</th>\n",
       "      <th>day</th>\n",
       "      <th>bin</th>\n",
       "      <th>historical_average</th>\n",
       "      <th>timestamp</th>\n",
       "    </tr>\n",
       "  </thead>\n",
       "  <tbody>\n",
       "    <tr>\n",
       "      <th>1444</th>\n",
       "      <td>4</td>\n",
       "      <td>6</td>\n",
       "      <td>10</td>\n",
       "      <td>4</td>\n",
       "      <td>4.631579</td>\n",
       "      <td>56452</td>\n",
       "    </tr>\n",
       "    <tr>\n",
       "      <th>7204</th>\n",
       "      <td>12</td>\n",
       "      <td>6</td>\n",
       "      <td>10</td>\n",
       "      <td>4</td>\n",
       "      <td>0.210526</td>\n",
       "      <td>56452</td>\n",
       "    </tr>\n",
       "    <tr>\n",
       "      <th>12964</th>\n",
       "      <td>13</td>\n",
       "      <td>6</td>\n",
       "      <td>10</td>\n",
       "      <td>4</td>\n",
       "      <td>4.263158</td>\n",
       "      <td>56452</td>\n",
       "    </tr>\n",
       "    <tr>\n",
       "      <th>18724</th>\n",
       "      <td>24</td>\n",
       "      <td>6</td>\n",
       "      <td>10</td>\n",
       "      <td>4</td>\n",
       "      <td>2.315789</td>\n",
       "      <td>56452</td>\n",
       "    </tr>\n",
       "    <tr>\n",
       "      <th>24484</th>\n",
       "      <td>41</td>\n",
       "      <td>6</td>\n",
       "      <td>10</td>\n",
       "      <td>4</td>\n",
       "      <td>8.157895</td>\n",
       "      <td>56452</td>\n",
       "    </tr>\n",
       "  </tbody>\n",
       "</table>\n",
       "</div>"
      ],
      "text/plain": [
       "       zone  month  day  bin  historical_average  timestamp\n",
       "1444      4      6   10    4            4.631579      56452\n",
       "7204     12      6   10    4            0.210526      56452\n",
       "12964    13      6   10    4            4.263158      56452\n",
       "18724    24      6   10    4            2.315789      56452\n",
       "24484    41      6   10    4            8.157895      56452"
      ]
     },
     "execution_count": 53,
     "metadata": {},
     "output_type": "execute_result"
    }
   ],
   "source": [
    "history = df[['zone','month','day','bin','historical_average','timestamp']]\n",
    "history = history[history['timestamp'].isin(timestamp_new)]\n",
    "history = history.sort_values(by=['timestamp','zone'])\n",
    "history.head()"
   ]
  },
  {
   "cell_type": "code",
   "execution_count": 54,
   "metadata": {},
   "outputs": [],
   "source": [
    "his = np.array(history.groupby('timestamp')['historical_average'].agg(lambda x: x.to_list()).to_list())\n",
    "np.save('data/processed/history_diff.npy',his)"
   ]
  },
  {
   "attachments": {},
   "cell_type": "markdown",
   "metadata": {},
   "source": [
    "### Level of service"
   ]
  },
  {
   "cell_type": "code",
   "execution_count": 55,
   "metadata": {},
   "outputs": [
    {
     "data": {
      "text/html": [
       "<div>\n",
       "<style scoped>\n",
       "    .dataframe tbody tr th:only-of-type {\n",
       "        vertical-align: middle;\n",
       "    }\n",
       "\n",
       "    .dataframe tbody tr th {\n",
       "        vertical-align: top;\n",
       "    }\n",
       "\n",
       "    .dataframe thead th {\n",
       "        text-align: right;\n",
       "    }\n",
       "</style>\n",
       "<table border=\"1\" class=\"dataframe\">\n",
       "  <thead>\n",
       "    <tr style=\"text-align: right;\">\n",
       "      <th></th>\n",
       "      <th>zone</th>\n",
       "      <th>month</th>\n",
       "      <th>day</th>\n",
       "      <th>bin</th>\n",
       "      <th>subway_stations</th>\n",
       "      <th>bus_stops</th>\n",
       "      <th>timestamp</th>\n",
       "      <th>public</th>\n",
       "    </tr>\n",
       "  </thead>\n",
       "  <tbody>\n",
       "    <tr>\n",
       "      <th>1444</th>\n",
       "      <td>4</td>\n",
       "      <td>6</td>\n",
       "      <td>10</td>\n",
       "      <td>4</td>\n",
       "      <td>0.0</td>\n",
       "      <td>11.0</td>\n",
       "      <td>56452</td>\n",
       "      <td>2.2</td>\n",
       "    </tr>\n",
       "    <tr>\n",
       "      <th>7204</th>\n",
       "      <td>12</td>\n",
       "      <td>6</td>\n",
       "      <td>10</td>\n",
       "      <td>4</td>\n",
       "      <td>0.0</td>\n",
       "      <td>0.0</td>\n",
       "      <td>56452</td>\n",
       "      <td>0.0</td>\n",
       "    </tr>\n",
       "    <tr>\n",
       "      <th>12964</th>\n",
       "      <td>13</td>\n",
       "      <td>6</td>\n",
       "      <td>10</td>\n",
       "      <td>4</td>\n",
       "      <td>0.0</td>\n",
       "      <td>3.0</td>\n",
       "      <td>56452</td>\n",
       "      <td>0.6</td>\n",
       "    </tr>\n",
       "    <tr>\n",
       "      <th>18724</th>\n",
       "      <td>24</td>\n",
       "      <td>6</td>\n",
       "      <td>10</td>\n",
       "      <td>4</td>\n",
       "      <td>1.0</td>\n",
       "      <td>13.0</td>\n",
       "      <td>56452</td>\n",
       "      <td>3.6</td>\n",
       "    </tr>\n",
       "    <tr>\n",
       "      <th>24484</th>\n",
       "      <td>41</td>\n",
       "      <td>6</td>\n",
       "      <td>10</td>\n",
       "      <td>4</td>\n",
       "      <td>6.0</td>\n",
       "      <td>36.0</td>\n",
       "      <td>56452</td>\n",
       "      <td>13.2</td>\n",
       "    </tr>\n",
       "  </tbody>\n",
       "</table>\n",
       "</div>"
      ],
      "text/plain": [
       "       zone  month  day  bin  subway_stations  bus_stops  timestamp  public\n",
       "1444      4      6   10    4              0.0       11.0      56452     2.2\n",
       "7204     12      6   10    4              0.0        0.0      56452     0.0\n",
       "12964    13      6   10    4              0.0        3.0      56452     0.6\n",
       "18724    24      6   10    4              1.0       13.0      56452     3.6\n",
       "24484    41      6   10    4              6.0       36.0      56452    13.2"
      ]
     },
     "execution_count": 55,
     "metadata": {},
     "output_type": "execute_result"
    }
   ],
   "source": [
    "los = df[['zone','month','day','bin','subway_stations','bus_stops','timestamp']]\n",
    "los = los[los['timestamp'].isin(timestamp_new)]\n",
    "los = los.sort_values(by=['timestamp','zone'])\n",
    "los['public'] = los['subway_stations'] + 0.2*los['bus_stops']\n",
    "los.head()"
   ]
  },
  {
   "cell_type": "code",
   "execution_count": 56,
   "metadata": {},
   "outputs": [],
   "source": [
    "losn = np.array(los.groupby('timestamp')['public'].agg(lambda x: x.to_list()).to_list())\n",
    "np.save('data/processed/los_diff.npy',losn)"
   ]
  },
  {
   "attachments": {},
   "cell_type": "markdown",
   "metadata": {},
   "source": [
    "### Weather"
   ]
  },
  {
   "cell_type": "code",
   "execution_count": 57,
   "metadata": {},
   "outputs": [
    {
     "data": {
      "text/html": [
       "<div>\n",
       "<style scoped>\n",
       "    .dataframe tbody tr th:only-of-type {\n",
       "        vertical-align: middle;\n",
       "    }\n",
       "\n",
       "    .dataframe tbody tr th {\n",
       "        vertical-align: top;\n",
       "    }\n",
       "\n",
       "    .dataframe thead th {\n",
       "        text-align: right;\n",
       "    }\n",
       "</style>\n",
       "<table border=\"1\" class=\"dataframe\">\n",
       "  <thead>\n",
       "    <tr style=\"text-align: right;\">\n",
       "      <th></th>\n",
       "      <th>zone</th>\n",
       "      <th>month</th>\n",
       "      <th>day</th>\n",
       "      <th>bin</th>\n",
       "      <th>air_temp_feel</th>\n",
       "      <th>rain</th>\n",
       "      <th>timestamp</th>\n",
       "    </tr>\n",
       "  </thead>\n",
       "  <tbody>\n",
       "    <tr>\n",
       "      <th>1444</th>\n",
       "      <td>4</td>\n",
       "      <td>6</td>\n",
       "      <td>10</td>\n",
       "      <td>4</td>\n",
       "      <td>68.5</td>\n",
       "      <td>0.0</td>\n",
       "      <td>56452</td>\n",
       "    </tr>\n",
       "    <tr>\n",
       "      <th>7204</th>\n",
       "      <td>12</td>\n",
       "      <td>6</td>\n",
       "      <td>10</td>\n",
       "      <td>4</td>\n",
       "      <td>68.5</td>\n",
       "      <td>0.0</td>\n",
       "      <td>56452</td>\n",
       "    </tr>\n",
       "    <tr>\n",
       "      <th>12964</th>\n",
       "      <td>13</td>\n",
       "      <td>6</td>\n",
       "      <td>10</td>\n",
       "      <td>4</td>\n",
       "      <td>68.5</td>\n",
       "      <td>0.0</td>\n",
       "      <td>56452</td>\n",
       "    </tr>\n",
       "    <tr>\n",
       "      <th>18724</th>\n",
       "      <td>24</td>\n",
       "      <td>6</td>\n",
       "      <td>10</td>\n",
       "      <td>4</td>\n",
       "      <td>68.5</td>\n",
       "      <td>0.0</td>\n",
       "      <td>56452</td>\n",
       "    </tr>\n",
       "    <tr>\n",
       "      <th>24484</th>\n",
       "      <td>41</td>\n",
       "      <td>6</td>\n",
       "      <td>10</td>\n",
       "      <td>4</td>\n",
       "      <td>68.5</td>\n",
       "      <td>0.0</td>\n",
       "      <td>56452</td>\n",
       "    </tr>\n",
       "  </tbody>\n",
       "</table>\n",
       "</div>"
      ],
      "text/plain": [
       "       zone  month  day  bin  air_temp_feel  rain  timestamp\n",
       "1444      4      6   10    4           68.5   0.0      56452\n",
       "7204     12      6   10    4           68.5   0.0      56452\n",
       "12964    13      6   10    4           68.5   0.0      56452\n",
       "18724    24      6   10    4           68.5   0.0      56452\n",
       "24484    41      6   10    4           68.5   0.0      56452"
      ]
     },
     "execution_count": 57,
     "metadata": {},
     "output_type": "execute_result"
    }
   ],
   "source": [
    "weather = df[['zone','month','day','bin','air_temp_feel','rain','timestamp']]\n",
    "weather = weather[weather['timestamp'].isin(timestamp_new)]\n",
    "weather = weather.sort_values(by=['timestamp','zone'])\n",
    "weather.head()"
   ]
  },
  {
   "cell_type": "code",
   "execution_count": 58,
   "metadata": {},
   "outputs": [],
   "source": [
    "weather['weather'] = weather.apply(lambda row:[row['air_temp_feel'],row['rain']],axis=1)\n",
    "wea = np.array(weather.groupby('timestamp')['weather'].agg(lambda x: x.to_list()).to_list())"
   ]
  },
  {
   "cell_type": "code",
   "execution_count": 59,
   "metadata": {},
   "outputs": [],
   "source": [
    "np.save('data/processed/weather_diff.npy',wea)"
   ]
  },
  {
   "cell_type": "code",
   "execution_count": 60,
   "metadata": {},
   "outputs": [
    {
     "data": {
      "text/plain": [
       "(4308, 63, 2)"
      ]
     },
     "execution_count": 60,
     "metadata": {},
     "output_type": "execute_result"
    }
   ],
   "source": [
    "wea.shape"
   ]
  },
  {
   "cell_type": "code",
   "execution_count": 61,
   "metadata": {},
   "outputs": [],
   "source": [
    "np.savez('data/processed/0620_diff.npz',x=x_new,y=y_new,history=his,los=losn,weather=wea)"
   ]
  },
  {
   "cell_type": "code",
   "execution_count": 62,
   "metadata": {},
   "outputs": [],
   "source": [
    "data = np.load('data/processed/0620_diff.npz')"
   ]
  },
  {
   "cell_type": "code",
   "execution_count": 64,
   "metadata": {},
   "outputs": [
    {
     "data": {
      "text/plain": [
       "(4308, 2, 63, 2)"
      ]
     },
     "execution_count": 64,
     "metadata": {},
     "output_type": "execute_result"
    }
   ],
   "source": [
    "data['x'].shape"
   ]
  },
  {
   "cell_type": "code",
   "execution_count": 65,
   "metadata": {},
   "outputs": [],
   "source": [
    "x_new = np.load('data/processed/0620x.npy')\n",
    "y_new = np.load('data/processed/0620y.npy')\n",
    "his = np.load('data/processed/history.npy')\n",
    "wea = np.load('data/processed/weather.npy')\n",
    "losn = np.load('data/processed/los.npy')\n",
    "np.savez('data/processed/0620.npz',x=x_new,y=y_new,history=his,los=losn,weather=wea)"
   ]
  },
  {
   "cell_type": "code",
   "execution_count": null,
   "metadata": {},
   "outputs": [],
   "source": []
  }
 ],
 "metadata": {
  "kernelspec": {
   "display_name": "uncertainty",
   "language": "python",
   "name": "python3"
  },
  "language_info": {
   "codemirror_mode": {
    "name": "ipython",
    "version": 3
   },
   "file_extension": ".py",
   "mimetype": "text/x-python",
   "name": "python",
   "nbconvert_exporter": "python",
   "pygments_lexer": "ipython3",
   "version": "3.11.3"
  },
  "orig_nbformat": 4
 },
 "nbformat": 4,
 "nbformat_minor": 2
}
